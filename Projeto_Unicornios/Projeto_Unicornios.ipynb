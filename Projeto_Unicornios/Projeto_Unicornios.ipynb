{
 "cells": [
  {
   "cell_type": "code",
   "execution_count": 1,
   "id": "adb8fc14",
   "metadata": {},
   "outputs": [],
   "source": [
    "# Importação das bibliotecas\n",
    "import numpy as np\n",
    "import pandas as pd\n",
    "import matplotlib.pyplot as plt\n",
    "import seaborn as sns\n",
    "\n",
    "import warnings\n",
    "warnings.filterwarnings('ignore')"
   ]
  },
  {
   "cell_type": "markdown",
   "id": "31ac601d",
   "metadata": {},
   "source": [
    "## Visualização e Tratamento dos Dados"
   ]
  },
  {
   "cell_type": "code",
   "execution_count": 2,
   "id": "24e597e9",
   "metadata": {},
   "outputs": [],
   "source": [
    "# Leitura dos dados\n",
    "Base_Dados = pd.read_csv('unicorns till sep 2022.csv')"
   ]
  },
  {
   "cell_type": "code",
   "execution_count": 3,
   "id": "6c35e032",
   "metadata": {
    "scrolled": true
   },
   "outputs": [
    {
     "data": {
      "text/html": [
       "<div>\n",
       "<style scoped>\n",
       "    .dataframe tbody tr th:only-of-type {\n",
       "        vertical-align: middle;\n",
       "    }\n",
       "\n",
       "    .dataframe tbody tr th {\n",
       "        vertical-align: top;\n",
       "    }\n",
       "\n",
       "    .dataframe thead th {\n",
       "        text-align: right;\n",
       "    }\n",
       "</style>\n",
       "<table border=\"1\" class=\"dataframe\">\n",
       "  <thead>\n",
       "    <tr style=\"text-align: right;\">\n",
       "      <th></th>\n",
       "      <th>Company</th>\n",
       "      <th>Valuation ($B)</th>\n",
       "      <th>Date Joined</th>\n",
       "      <th>Country</th>\n",
       "      <th>City</th>\n",
       "      <th>Industry</th>\n",
       "      <th>Investors</th>\n",
       "    </tr>\n",
       "  </thead>\n",
       "  <tbody>\n",
       "    <tr>\n",
       "      <th>0</th>\n",
       "      <td>ByteDance</td>\n",
       "      <td>$140</td>\n",
       "      <td>4/7/2017</td>\n",
       "      <td>China</td>\n",
       "      <td>Beijing</td>\n",
       "      <td>Artificial intelligence</td>\n",
       "      <td>Sequoia Capital China, SIG Asia Investments, S...</td>\n",
       "    </tr>\n",
       "    <tr>\n",
       "      <th>1</th>\n",
       "      <td>SpaceX</td>\n",
       "      <td>$127</td>\n",
       "      <td>12/1/2012</td>\n",
       "      <td>United States</td>\n",
       "      <td>Hawthorne</td>\n",
       "      <td>Other</td>\n",
       "      <td>Founders Fund, Draper Fisher Jurvetson, Rothen...</td>\n",
       "    </tr>\n",
       "    <tr>\n",
       "      <th>2</th>\n",
       "      <td>SHEIN</td>\n",
       "      <td>$100</td>\n",
       "      <td>7/3/2018</td>\n",
       "      <td>China</td>\n",
       "      <td>Shenzhen</td>\n",
       "      <td>E-commerce &amp; direct-to-consumer</td>\n",
       "      <td>Tiger Global Management, Sequoia Capital China...</td>\n",
       "    </tr>\n",
       "    <tr>\n",
       "      <th>3</th>\n",
       "      <td>Stripe</td>\n",
       "      <td>$95</td>\n",
       "      <td>1/23/2014</td>\n",
       "      <td>United States</td>\n",
       "      <td>San Francisco</td>\n",
       "      <td>Fintech</td>\n",
       "      <td>Khosla Ventures, LowercaseCapital, capitalG</td>\n",
       "    </tr>\n",
       "    <tr>\n",
       "      <th>4</th>\n",
       "      <td>Canva</td>\n",
       "      <td>$40</td>\n",
       "      <td>1/8/2018</td>\n",
       "      <td>Australia</td>\n",
       "      <td>Surry Hills</td>\n",
       "      <td>Internet software &amp; services</td>\n",
       "      <td>Sequoia Capital China, Blackbird Ventures, Mat...</td>\n",
       "    </tr>\n",
       "  </tbody>\n",
       "</table>\n",
       "</div>"
      ],
      "text/plain": [
       "     Company Valuation ($B) Date Joined        Country          City   \\\n",
       "0  ByteDance           $140    4/7/2017          China        Beijing   \n",
       "1     SpaceX           $127   12/1/2012  United States      Hawthorne   \n",
       "2      SHEIN           $100    7/3/2018          China       Shenzhen   \n",
       "3     Stripe            $95   1/23/2014  United States  San Francisco   \n",
       "4      Canva            $40    1/8/2018      Australia    Surry Hills   \n",
       "\n",
       "                          Industry  \\\n",
       "0          Artificial intelligence   \n",
       "1                            Other   \n",
       "2  E-commerce & direct-to-consumer   \n",
       "3                          Fintech   \n",
       "4     Internet software & services   \n",
       "\n",
       "                                           Investors  \n",
       "0  Sequoia Capital China, SIG Asia Investments, S...  \n",
       "1  Founders Fund, Draper Fisher Jurvetson, Rothen...  \n",
       "2  Tiger Global Management, Sequoia Capital China...  \n",
       "3        Khosla Ventures, LowercaseCapital, capitalG  \n",
       "4  Sequoia Capital China, Blackbird Ventures, Mat...  "
      ]
     },
     "execution_count": 3,
     "metadata": {},
     "output_type": "execute_result"
    }
   ],
   "source": [
    "# Exibe as 5 primeiras linhas\n",
    "Base_Dados.head()"
   ]
  },
  {
   "cell_type": "code",
   "execution_count": 4,
   "id": "63ffb419",
   "metadata": {},
   "outputs": [],
   "source": [
    "# Retira o símbolo $ dos valores de valuation e transforma os valores em float\n",
    "Base_Dados['Valuation ($B)'] = Base_Dados['Valuation ($B)'].apply(lambda dado: float(dado.replace('$', '')))"
   ]
  },
  {
   "cell_type": "code",
   "execution_count": 5,
   "id": "53e0c70b",
   "metadata": {},
   "outputs": [
    {
     "data": {
      "text/html": [
       "<div>\n",
       "<style scoped>\n",
       "    .dataframe tbody tr th:only-of-type {\n",
       "        vertical-align: middle;\n",
       "    }\n",
       "\n",
       "    .dataframe tbody tr th {\n",
       "        vertical-align: top;\n",
       "    }\n",
       "\n",
       "    .dataframe thead th {\n",
       "        text-align: right;\n",
       "    }\n",
       "</style>\n",
       "<table border=\"1\" class=\"dataframe\">\n",
       "  <thead>\n",
       "    <tr style=\"text-align: right;\">\n",
       "      <th></th>\n",
       "      <th>Company</th>\n",
       "      <th>Valuation ($B)</th>\n",
       "      <th>Date Joined</th>\n",
       "      <th>Country</th>\n",
       "      <th>City</th>\n",
       "      <th>Industry</th>\n",
       "      <th>Investors</th>\n",
       "    </tr>\n",
       "  </thead>\n",
       "  <tbody>\n",
       "    <tr>\n",
       "      <th>0</th>\n",
       "      <td>ByteDance</td>\n",
       "      <td>140.0</td>\n",
       "      <td>4/7/2017</td>\n",
       "      <td>China</td>\n",
       "      <td>Beijing</td>\n",
       "      <td>Artificial intelligence</td>\n",
       "      <td>Sequoia Capital China, SIG Asia Investments, S...</td>\n",
       "    </tr>\n",
       "    <tr>\n",
       "      <th>1</th>\n",
       "      <td>SpaceX</td>\n",
       "      <td>127.0</td>\n",
       "      <td>12/1/2012</td>\n",
       "      <td>United States</td>\n",
       "      <td>Hawthorne</td>\n",
       "      <td>Other</td>\n",
       "      <td>Founders Fund, Draper Fisher Jurvetson, Rothen...</td>\n",
       "    </tr>\n",
       "    <tr>\n",
       "      <th>2</th>\n",
       "      <td>SHEIN</td>\n",
       "      <td>100.0</td>\n",
       "      <td>7/3/2018</td>\n",
       "      <td>China</td>\n",
       "      <td>Shenzhen</td>\n",
       "      <td>E-commerce &amp; direct-to-consumer</td>\n",
       "      <td>Tiger Global Management, Sequoia Capital China...</td>\n",
       "    </tr>\n",
       "    <tr>\n",
       "      <th>3</th>\n",
       "      <td>Stripe</td>\n",
       "      <td>95.0</td>\n",
       "      <td>1/23/2014</td>\n",
       "      <td>United States</td>\n",
       "      <td>San Francisco</td>\n",
       "      <td>Fintech</td>\n",
       "      <td>Khosla Ventures, LowercaseCapital, capitalG</td>\n",
       "    </tr>\n",
       "    <tr>\n",
       "      <th>4</th>\n",
       "      <td>Canva</td>\n",
       "      <td>40.0</td>\n",
       "      <td>1/8/2018</td>\n",
       "      <td>Australia</td>\n",
       "      <td>Surry Hills</td>\n",
       "      <td>Internet software &amp; services</td>\n",
       "      <td>Sequoia Capital China, Blackbird Ventures, Mat...</td>\n",
       "    </tr>\n",
       "  </tbody>\n",
       "</table>\n",
       "</div>"
      ],
      "text/plain": [
       "     Company  Valuation ($B) Date Joined        Country          City   \\\n",
       "0  ByteDance           140.0    4/7/2017          China        Beijing   \n",
       "1     SpaceX           127.0   12/1/2012  United States      Hawthorne   \n",
       "2      SHEIN           100.0    7/3/2018          China       Shenzhen   \n",
       "3     Stripe            95.0   1/23/2014  United States  San Francisco   \n",
       "4      Canva            40.0    1/8/2018      Australia    Surry Hills   \n",
       "\n",
       "                          Industry  \\\n",
       "0          Artificial intelligence   \n",
       "1                            Other   \n",
       "2  E-commerce & direct-to-consumer   \n",
       "3                          Fintech   \n",
       "4     Internet software & services   \n",
       "\n",
       "                                           Investors  \n",
       "0  Sequoia Capital China, SIG Asia Investments, S...  \n",
       "1  Founders Fund, Draper Fisher Jurvetson, Rothen...  \n",
       "2  Tiger Global Management, Sequoia Capital China...  \n",
       "3        Khosla Ventures, LowercaseCapital, capitalG  \n",
       "4  Sequoia Capital China, Blackbird Ventures, Mat...  "
      ]
     },
     "execution_count": 5,
     "metadata": {},
     "output_type": "execute_result"
    }
   ],
   "source": [
    "# Exibe as 5 primeiras linhas do dataframe Base_Dados\n",
    "Base_Dados.head()"
   ]
  },
  {
   "cell_type": "code",
   "execution_count": 6,
   "id": "6bd85ae5",
   "metadata": {},
   "outputs": [],
   "source": [
    "# Converte as datas para o formato datetime\n",
    "Base_Dados['Date Joined'] = pd.to_datetime(Base_Dados['Date Joined'])"
   ]
  },
  {
   "cell_type": "code",
   "execution_count": 7,
   "id": "0b23fb28",
   "metadata": {
    "scrolled": true
   },
   "outputs": [
    {
     "data": {
      "text/html": [
       "<div>\n",
       "<style scoped>\n",
       "    .dataframe tbody tr th:only-of-type {\n",
       "        vertical-align: middle;\n",
       "    }\n",
       "\n",
       "    .dataframe tbody tr th {\n",
       "        vertical-align: top;\n",
       "    }\n",
       "\n",
       "    .dataframe thead th {\n",
       "        text-align: right;\n",
       "    }\n",
       "</style>\n",
       "<table border=\"1\" class=\"dataframe\">\n",
       "  <thead>\n",
       "    <tr style=\"text-align: right;\">\n",
       "      <th></th>\n",
       "      <th>Company</th>\n",
       "      <th>Valuation ($B)</th>\n",
       "      <th>Date Joined</th>\n",
       "      <th>Country</th>\n",
       "      <th>City</th>\n",
       "      <th>Industry</th>\n",
       "      <th>Investors</th>\n",
       "    </tr>\n",
       "  </thead>\n",
       "  <tbody>\n",
       "    <tr>\n",
       "      <th>0</th>\n",
       "      <td>ByteDance</td>\n",
       "      <td>140.0</td>\n",
       "      <td>2017-04-07</td>\n",
       "      <td>China</td>\n",
       "      <td>Beijing</td>\n",
       "      <td>Artificial intelligence</td>\n",
       "      <td>Sequoia Capital China, SIG Asia Investments, S...</td>\n",
       "    </tr>\n",
       "    <tr>\n",
       "      <th>1</th>\n",
       "      <td>SpaceX</td>\n",
       "      <td>127.0</td>\n",
       "      <td>2012-12-01</td>\n",
       "      <td>United States</td>\n",
       "      <td>Hawthorne</td>\n",
       "      <td>Other</td>\n",
       "      <td>Founders Fund, Draper Fisher Jurvetson, Rothen...</td>\n",
       "    </tr>\n",
       "    <tr>\n",
       "      <th>2</th>\n",
       "      <td>SHEIN</td>\n",
       "      <td>100.0</td>\n",
       "      <td>2018-07-03</td>\n",
       "      <td>China</td>\n",
       "      <td>Shenzhen</td>\n",
       "      <td>E-commerce &amp; direct-to-consumer</td>\n",
       "      <td>Tiger Global Management, Sequoia Capital China...</td>\n",
       "    </tr>\n",
       "    <tr>\n",
       "      <th>3</th>\n",
       "      <td>Stripe</td>\n",
       "      <td>95.0</td>\n",
       "      <td>2014-01-23</td>\n",
       "      <td>United States</td>\n",
       "      <td>San Francisco</td>\n",
       "      <td>Fintech</td>\n",
       "      <td>Khosla Ventures, LowercaseCapital, capitalG</td>\n",
       "    </tr>\n",
       "    <tr>\n",
       "      <th>4</th>\n",
       "      <td>Canva</td>\n",
       "      <td>40.0</td>\n",
       "      <td>2018-01-08</td>\n",
       "      <td>Australia</td>\n",
       "      <td>Surry Hills</td>\n",
       "      <td>Internet software &amp; services</td>\n",
       "      <td>Sequoia Capital China, Blackbird Ventures, Mat...</td>\n",
       "    </tr>\n",
       "  </tbody>\n",
       "</table>\n",
       "</div>"
      ],
      "text/plain": [
       "     Company  Valuation ($B) Date Joined        Country          City   \\\n",
       "0  ByteDance           140.0  2017-04-07          China        Beijing   \n",
       "1     SpaceX           127.0  2012-12-01  United States      Hawthorne   \n",
       "2      SHEIN           100.0  2018-07-03          China       Shenzhen   \n",
       "3     Stripe            95.0  2014-01-23  United States  San Francisco   \n",
       "4      Canva            40.0  2018-01-08      Australia    Surry Hills   \n",
       "\n",
       "                          Industry  \\\n",
       "0          Artificial intelligence   \n",
       "1                            Other   \n",
       "2  E-commerce & direct-to-consumer   \n",
       "3                          Fintech   \n",
       "4     Internet software & services   \n",
       "\n",
       "                                           Investors  \n",
       "0  Sequoia Capital China, SIG Asia Investments, S...  \n",
       "1  Founders Fund, Draper Fisher Jurvetson, Rothen...  \n",
       "2  Tiger Global Management, Sequoia Capital China...  \n",
       "3        Khosla Ventures, LowercaseCapital, capitalG  \n",
       "4  Sequoia Capital China, Blackbird Ventures, Mat...  "
      ]
     },
     "execution_count": 7,
     "metadata": {},
     "output_type": "execute_result"
    }
   ],
   "source": [
    "# Exibe as 5 primeiras linhas do dataframe Base_Dados\n",
    "Base_Dados.head()"
   ]
  },
  {
   "cell_type": "code",
   "execution_count": 8,
   "id": "2fbd89b3",
   "metadata": {},
   "outputs": [
    {
     "data": {
      "text/plain": [
       "(Timestamp('2007-07-02 00:00:00'), Timestamp('2022-08-24 00:00:00'))"
      ]
     },
     "execution_count": 8,
     "metadata": {},
     "output_type": "execute_result"
    }
   ],
   "source": [
    "# Retorna a data de adesão mais antiga e a mais atual\n",
    "(Base_Dados['Date Joined'].min(), Base_Dados['Date Joined'].max())"
   ]
  },
  {
   "cell_type": "code",
   "execution_count": 9,
   "id": "fbdeb05c",
   "metadata": {},
   "outputs": [
    {
     "name": "stdout",
     "output_type": "stream",
     "text": [
      "<class 'pandas.core.frame.DataFrame'>\n",
      "RangeIndex: 1186 entries, 0 to 1185\n",
      "Data columns (total 7 columns):\n",
      " #   Column          Non-Null Count  Dtype         \n",
      "---  ------          --------------  -----         \n",
      " 0   Company         1186 non-null   object        \n",
      " 1   Valuation ($B)  1186 non-null   float64       \n",
      " 2   Date Joined     1186 non-null   datetime64[ns]\n",
      " 3   Country         1186 non-null   object        \n",
      " 4   City            1186 non-null   object        \n",
      " 5   Industry        1186 non-null   object        \n",
      " 6   Investors       1168 non-null   object        \n",
      "dtypes: datetime64[ns](1), float64(1), object(5)\n",
      "memory usage: 65.0+ KB\n"
     ]
    }
   ],
   "source": [
    "# Verifica os tipos de informações e qntd de valores não-nulos\n",
    "Base_Dados.info()"
   ]
  },
  {
   "cell_type": "code",
   "execution_count": 10,
   "id": "86c81b86",
   "metadata": {},
   "outputs": [
    {
     "data": {
      "text/plain": [
       "Company            0\n",
       "Valuation ($B)     0\n",
       "Date Joined        0\n",
       "Country            0\n",
       "City               0\n",
       "Industry           0\n",
       "Investors         18\n",
       "dtype: int64"
      ]
     },
     "execution_count": 10,
     "metadata": {},
     "output_type": "execute_result"
    }
   ],
   "source": [
    "# Soma dos valores nulos de cada coluna do dataframe Base_Dados\n",
    "Base_Dados.isnull().sum()"
   ]
  },
  {
   "cell_type": "markdown",
   "id": "40e7b39f",
   "metadata": {},
   "source": [
    "**Nota-se que apenas a coluna Investors apresenta valores nulos (18, no total)**"
   ]
  },
  {
   "cell_type": "code",
   "execution_count": 11,
   "id": "d6b648b4",
   "metadata": {},
   "outputs": [
    {
     "data": {
      "text/plain": [
       "Fintech                                                               239\n",
       "Internet software & services                                          224\n",
       "E-commerce & direct-to-consumer                                       103\n",
       "Health                                                                 94\n",
       "Artificial intelligence                                                74\n",
       "Supply chain, logistics, & delivery                                    65\n",
       "Other                                                                  65\n",
       "Cybersecurity                                                          58\n",
       "Data management & analytics                                            45\n",
       "Auto & transportation                                                  40\n",
       "Hardware                                                               38\n",
       "Mobile & telecommunications                                            37\n",
       "Edtech                                                                 32\n",
       "Consumer & retail                                                      28\n",
       "Travel                                                                 14\n",
       "Artificial Intelligence                                                11\n",
       "Internet                                                                2\n",
       "Sequoia Capital China, ING, Alibaba Entrepreneurs Fund                  1\n",
       "Andreessen Horowitz, DST Global, IDG Capital                            1\n",
       "B Capital Group, Monk's Hill Ventures, Dynamic Parcel Distribution      1\n",
       "Vertex Ventures SE Asia, Global Founders Capital, Visa Ventures         1\n",
       "Mundi Ventures, Doqling Capital Partners, Activant Capital              1\n",
       "SingTel Innov8, Alpha JWC Ventures, Golden Gate Ventures                1\n",
       "Dragonfly Captial, Qiming Venture Partners, DST Global                  1\n",
       "Sequoia Capital China, Shunwei Capital Partners, Qualgro                1\n",
       "Tiger Global Management, Tiger Brokers, DCM Ventures                    1\n",
       "500 Global, Rakuten Ventures, Golden Gate Ventures                      1\n",
       "Hopu Investment Management, Boyu Capital, DC Thomson Ventures           1\n",
       "Vision Plus Capital, GSR Ventures, ZhenFund                             1\n",
       "GIC. Apis Partners, Insight Partners                                    1\n",
       "Jungle Ventures, Accel, Venture Highway                                 1\n",
       "Kuang-Chi                                                               1\n",
       "Sequoia Capital, Thoma Bravo, Softbank                                  1\n",
       "Temasek, Guggenheim Investments, Qatar Investment Authority             1\n",
       "Name: Industry, dtype: int64"
      ]
     },
     "execution_count": 11,
     "metadata": {},
     "output_type": "execute_result"
    }
   ],
   "source": [
    "# Valores únicos da coluna Industry, ordenados dos valores de maior frequência para os valores de menor frequência\n",
    "Base_Dados['Industry'].value_counts()"
   ]
  },
  {
   "cell_type": "markdown",
   "id": "521bcff9",
   "metadata": {},
   "source": [
    "**Como apresentado acima, os 5 ramos mais frequentes (Top 5) são *Fintechs*, Serviços e Software, E-commerces, Saúde e Inteligência Artificial. Todas as empresas da base de dados se tornaram Unicórnios** \n",
    "\n",
    "**Pode-se notar ainda que para uma mesma classificação das empresas, há 2 escritas diferentes: Artificial intelligence (74 empresas na base de dados) & Artificial Intelligence (11 empresas na base de dados). Essa divergência é corrigida no comando a seguir.**"
   ]
  },
  {
   "cell_type": "code",
   "execution_count": 12,
   "id": "054cc7eb",
   "metadata": {},
   "outputs": [],
   "source": [
    "# Substituíndo 'Artificial intelligence' por 'Artificial Intelligence'\n",
    "Base_Dados['Industry'] = Base_Dados['Industry'].replace('Artificial intelligence','Artificial Intelligence')"
   ]
  },
  {
   "cell_type": "code",
   "execution_count": 13,
   "id": "e85adc20",
   "metadata": {
    "scrolled": true
   },
   "outputs": [
    {
     "data": {
      "text/plain": [
       "Fintech                            239\n",
       "Internet software & services       224\n",
       "E-commerce & direct-to-consumer    103\n",
       "Health                              94\n",
       "Artificial Intelligence             85\n",
       "Name: Industry, dtype: int64"
      ]
     },
     "execution_count": 13,
     "metadata": {},
     "output_type": "execute_result"
    }
   ],
   "source": [
    "# Exibe as 5 primeiras linhas do dataframe Base_Dados, com novos valores únicos\n",
    "Base_Dados['Industry'].value_counts().head()"
   ]
  },
  {
   "cell_type": "markdown",
   "id": "2790f5cb",
   "metadata": {},
   "source": [
    "**Após a correção da divergência nas nomenclaturas, o ramo Artificial Intelligence apresenta 85 empresas.**"
   ]
  },
  {
   "cell_type": "code",
   "execution_count": 14,
   "id": "f7229696",
   "metadata": {},
   "outputs": [
    {
     "data": {
      "image/png": "[encoded data removed]",
      "text/plain": [
       "<Figure size 432x288 with 1 Axes>"
      ]
     },
     "metadata": {
      "needs_background": "light"
     },
     "output_type": "display_data"
    }
   ],
   "source": [
    "plt.title('Ramos das Empresas Unicórnios - Top 5', fontsize=14) # Config um título para a figura\n",
    "sns.barplot(x = Base_Dados['Industry'].value_counts().index[0:5], y = Base_Dados['Industry'].value_counts().head())\n",
    "plt.tick_params(axis='y', which='major', labelsize=14) # Config os valores de freq no eixo y\n",
    "plt.xticks(rotation=45, ha='right', fontsize=14) # Config a rotação da legenda em x\n",
    "plt.ylabel('Frequência', fontsize=14); # Config a legenda em y"
   ]
  },
  {
   "cell_type": "markdown",
   "id": "8d631c0f",
   "metadata": {},
   "source": [
    "**O gráfico acima isola as 5 empresas (unicórnios) mais frequêntes da base de dados.**"
   ]
  },
  {
   "cell_type": "code",
   "execution_count": 15,
   "id": "afd4521b",
   "metadata": {},
   "outputs": [
    {
     "data": {
      "text/plain": [
       "62.9"
      ]
     },
     "execution_count": 15,
     "metadata": {},
     "output_type": "execute_result"
    }
   ],
   "source": [
    "Analise = round(Base_Dados['Industry'].value_counts(normalize=True) * 100, 1) # Análise percentual das empresas Unicórnios\n",
    "Analise.head().sum() # Retorna o percentual correspondente ao Top 5 dos ramos que mais geram Unicórnios"
   ]
  },
  {
   "cell_type": "markdown",
   "id": "f6c8c352",
   "metadata": {},
   "source": [
    "**O Top 5 dos ramos das empresas que mais geraram unicórnios corresponde a 62,9% das empresas presentes na base de dados**"
   ]
  },
  {
   "cell_type": "code",
   "execution_count": 16,
   "id": "18b2098c",
   "metadata": {
    "scrolled": false
   },
   "outputs": [
    {
     "data": {
      "image/png": "[encoded data removed]",
      "text/plain": [
       "<Figure size 1080x432 with 1 Axes>"
      ]
     },
     "metadata": {},
     "output_type": "display_data"
    }
   ],
   "source": [
    "# Plot geral dos ramos das empresas\n",
    "plt.figure( figsize=(15,6) )\n",
    "plt.title('Ramos das empresas que se tornam de Unicórnios')\n",
    "plt.pie(\n",
    "    Analise.head(),\n",
    "    labels = Analise.index[0:5],\n",
    "    shadow=True,\n",
    "    startangle=90,\n",
    "    autopct='%1.1f%%'\n",
    ");"
   ]
  },
  {
   "cell_type": "markdown",
   "id": "abbaf8e7",
   "metadata": {},
   "source": [
    "**O gráfico de pizza acima ilustra o percentual correspondente a cada uma das empresas do top 5. Por exemplo, as *Fintechs* correspondem a 32,1% das empresas da base de dados que mais geraram unicórnios.**"
   ]
  },
  {
   "cell_type": "code",
   "execution_count": 17,
   "id": "c6f0d2a7",
   "metadata": {
    "scrolled": true
   },
   "outputs": [
    {
     "data": {
      "text/plain": [
       "United States     636\n",
       "China             174\n",
       "India              70\n",
       "United Kingdom     46\n",
       "Germany            29\n",
       "France             24\n",
       "Israel             22\n",
       "Canada             19\n",
       "Brazil             17\n",
       "South Korea        17\n",
       "Name: Country, dtype: int64"
      ]
     },
     "execution_count": 17,
     "metadata": {},
     "output_type": "execute_result"
    }
   ],
   "source": [
    "# Top 10 dos Países que mais geram Unicórnios\n",
    "Analise_qntd = Base_Dados['Country'].value_counts()\n",
    "Analise_qntd.head(10)"
   ]
  },
  {
   "cell_type": "markdown",
   "id": "4a36685f",
   "metadata": {},
   "source": [
    "**A maior parte das empresas unicórnios se encontram nos EUA. O Brasil está em 9° lugar nessa base de dados.**"
   ]
  },
  {
   "cell_type": "code",
   "execution_count": 18,
   "id": "09ab35fd",
   "metadata": {},
   "outputs": [],
   "source": [
    "Analise_perc = round(Base_Dados['Country'].value_counts(normalize=True) * 100, 1)"
   ]
  },
  {
   "cell_type": "code",
   "execution_count": 19,
   "id": "2ca04c03",
   "metadata": {
    "scrolled": true
   },
   "outputs": [
    {
     "data": {
      "text/plain": [
       "United States     53.6\n",
       "China             14.7\n",
       "India              5.9\n",
       "United Kingdom     3.9\n",
       "Germany            2.4\n",
       "France             2.0\n",
       "Israel             1.9\n",
       "Canada             1.6\n",
       "Brazil             1.4\n",
       "South Korea        1.4\n",
       "Name: Country, dtype: float64"
      ]
     },
     "execution_count": 19,
     "metadata": {},
     "output_type": "execute_result"
    }
   ],
   "source": [
    "# Top 10 dos Países que mais geram Unicórnios (valores em percentual)\n",
    "Analise_perc.head(10)"
   ]
  },
  {
   "cell_type": "markdown",
   "id": "2645edce",
   "metadata": {},
   "source": [
    "**De acordo com a base de dados, os EUA é o país que mais geram unicórnios em 53,6% das vezes. O Brasil encontra-se em 9° lugar no ranking com 1,4%.**"
   ]
  },
  {
   "cell_type": "markdown",
   "id": "691abffa",
   "metadata": {},
   "source": [
    "## Agrupamento dos dados"
   ]
  },
  {
   "cell_type": "code",
   "execution_count": 20,
   "id": "34f2c7f9",
   "metadata": {
    "scrolled": true
   },
   "outputs": [
    {
     "data": {
      "text/html": [
       "<div>\n",
       "<style scoped>\n",
       "    .dataframe tbody tr th:only-of-type {\n",
       "        vertical-align: middle;\n",
       "    }\n",
       "\n",
       "    .dataframe tbody tr th {\n",
       "        vertical-align: top;\n",
       "    }\n",
       "\n",
       "    .dataframe thead th {\n",
       "        text-align: right;\n",
       "    }\n",
       "</style>\n",
       "<table border=\"1\" class=\"dataframe\">\n",
       "  <thead>\n",
       "    <tr style=\"text-align: right;\">\n",
       "      <th></th>\n",
       "      <th>Company</th>\n",
       "      <th>Valuation ($B)</th>\n",
       "      <th>Date Joined</th>\n",
       "      <th>Country</th>\n",
       "      <th>City</th>\n",
       "      <th>Industry</th>\n",
       "      <th>Investors</th>\n",
       "      <th>Month</th>\n",
       "      <th>Year</th>\n",
       "    </tr>\n",
       "  </thead>\n",
       "  <tbody>\n",
       "    <tr>\n",
       "      <th>0</th>\n",
       "      <td>ByteDance</td>\n",
       "      <td>140.0</td>\n",
       "      <td>2017-04-07</td>\n",
       "      <td>China</td>\n",
       "      <td>Beijing</td>\n",
       "      <td>Artificial Intelligence</td>\n",
       "      <td>Sequoia Capital China, SIG Asia Investments, S...</td>\n",
       "      <td>4</td>\n",
       "      <td>2017</td>\n",
       "    </tr>\n",
       "    <tr>\n",
       "      <th>1</th>\n",
       "      <td>SpaceX</td>\n",
       "      <td>127.0</td>\n",
       "      <td>2012-12-01</td>\n",
       "      <td>United States</td>\n",
       "      <td>Hawthorne</td>\n",
       "      <td>Other</td>\n",
       "      <td>Founders Fund, Draper Fisher Jurvetson, Rothen...</td>\n",
       "      <td>12</td>\n",
       "      <td>2012</td>\n",
       "    </tr>\n",
       "    <tr>\n",
       "      <th>2</th>\n",
       "      <td>SHEIN</td>\n",
       "      <td>100.0</td>\n",
       "      <td>2018-07-03</td>\n",
       "      <td>China</td>\n",
       "      <td>Shenzhen</td>\n",
       "      <td>E-commerce &amp; direct-to-consumer</td>\n",
       "      <td>Tiger Global Management, Sequoia Capital China...</td>\n",
       "      <td>7</td>\n",
       "      <td>2018</td>\n",
       "    </tr>\n",
       "    <tr>\n",
       "      <th>3</th>\n",
       "      <td>Stripe</td>\n",
       "      <td>95.0</td>\n",
       "      <td>2014-01-23</td>\n",
       "      <td>United States</td>\n",
       "      <td>San Francisco</td>\n",
       "      <td>Fintech</td>\n",
       "      <td>Khosla Ventures, LowercaseCapital, capitalG</td>\n",
       "      <td>1</td>\n",
       "      <td>2014</td>\n",
       "    </tr>\n",
       "    <tr>\n",
       "      <th>4</th>\n",
       "      <td>Canva</td>\n",
       "      <td>40.0</td>\n",
       "      <td>2018-01-08</td>\n",
       "      <td>Australia</td>\n",
       "      <td>Surry Hills</td>\n",
       "      <td>Internet software &amp; services</td>\n",
       "      <td>Sequoia Capital China, Blackbird Ventures, Mat...</td>\n",
       "      <td>1</td>\n",
       "      <td>2018</td>\n",
       "    </tr>\n",
       "  </tbody>\n",
       "</table>\n",
       "</div>"
      ],
      "text/plain": [
       "     Company  Valuation ($B) Date Joined        Country          City   \\\n",
       "0  ByteDance           140.0  2017-04-07          China        Beijing   \n",
       "1     SpaceX           127.0  2012-12-01  United States      Hawthorne   \n",
       "2      SHEIN           100.0  2018-07-03          China       Shenzhen   \n",
       "3     Stripe            95.0  2014-01-23  United States  San Francisco   \n",
       "4      Canva            40.0  2018-01-08      Australia    Surry Hills   \n",
       "\n",
       "                          Industry  \\\n",
       "0          Artificial Intelligence   \n",
       "1                            Other   \n",
       "2  E-commerce & direct-to-consumer   \n",
       "3                          Fintech   \n",
       "4     Internet software & services   \n",
       "\n",
       "                                           Investors  Month  Year  \n",
       "0  Sequoia Capital China, SIG Asia Investments, S...      4  2017  \n",
       "1  Founders Fund, Draper Fisher Jurvetson, Rothen...     12  2012  \n",
       "2  Tiger Global Management, Sequoia Capital China...      7  2018  \n",
       "3        Khosla Ventures, LowercaseCapital, capitalG      1  2014  \n",
       "4  Sequoia Capital China, Blackbird Ventures, Mat...      1  2018  "
      ]
     },
     "execution_count": 20,
     "metadata": {},
     "output_type": "execute_result"
    }
   ],
   "source": [
    "# Extrai o ano e mês da coluna Date Joined e armazena os dados nas colunas Month e Year, respectivamente\n",
    "Base_Dados['Month'] = pd.DatetimeIndex( Base_Dados['Date Joined'] ).month\n",
    "Base_Dados['Year'] = pd.DatetimeIndex( Base_Dados['Date Joined'] ).year\n",
    "\n",
    "Base_Dados.head()"
   ]
  },
  {
   "cell_type": "code",
   "execution_count": 21,
   "id": "2af52fb2",
   "metadata": {},
   "outputs": [
    {
     "data": {
      "text/html": [
       "<div>\n",
       "<style scoped>\n",
       "    .dataframe tbody tr th:only-of-type {\n",
       "        vertical-align: middle;\n",
       "    }\n",
       "\n",
       "    .dataframe tbody tr th {\n",
       "        vertical-align: top;\n",
       "    }\n",
       "\n",
       "    .dataframe thead th {\n",
       "        text-align: right;\n",
       "    }\n",
       "</style>\n",
       "<table border=\"1\" class=\"dataframe\">\n",
       "  <thead>\n",
       "    <tr style=\"text-align: right;\">\n",
       "      <th></th>\n",
       "      <th>Company</th>\n",
       "      <th>Valuation ($B)</th>\n",
       "      <th>Date Joined</th>\n",
       "      <th>Country</th>\n",
       "      <th>City</th>\n",
       "      <th>Industry</th>\n",
       "      <th>Investors</th>\n",
       "      <th>Month</th>\n",
       "      <th>Year</th>\n",
       "      <th>id</th>\n",
       "    </tr>\n",
       "  </thead>\n",
       "  <tbody>\n",
       "    <tr>\n",
       "      <th>0</th>\n",
       "      <td>ByteDance</td>\n",
       "      <td>140.0</td>\n",
       "      <td>2017-04-07</td>\n",
       "      <td>China</td>\n",
       "      <td>Beijing</td>\n",
       "      <td>Artificial Intelligence</td>\n",
       "      <td>Sequoia Capital China, SIG Asia Investments, S...</td>\n",
       "      <td>4</td>\n",
       "      <td>2017</td>\n",
       "      <td>0</td>\n",
       "    </tr>\n",
       "    <tr>\n",
       "      <th>1</th>\n",
       "      <td>SpaceX</td>\n",
       "      <td>127.0</td>\n",
       "      <td>2012-12-01</td>\n",
       "      <td>United States</td>\n",
       "      <td>Hawthorne</td>\n",
       "      <td>Other</td>\n",
       "      <td>Founders Fund, Draper Fisher Jurvetson, Rothen...</td>\n",
       "      <td>12</td>\n",
       "      <td>2012</td>\n",
       "      <td>1</td>\n",
       "    </tr>\n",
       "    <tr>\n",
       "      <th>2</th>\n",
       "      <td>SHEIN</td>\n",
       "      <td>100.0</td>\n",
       "      <td>2018-07-03</td>\n",
       "      <td>China</td>\n",
       "      <td>Shenzhen</td>\n",
       "      <td>E-commerce &amp; direct-to-consumer</td>\n",
       "      <td>Tiger Global Management, Sequoia Capital China...</td>\n",
       "      <td>7</td>\n",
       "      <td>2018</td>\n",
       "      <td>2</td>\n",
       "    </tr>\n",
       "    <tr>\n",
       "      <th>3</th>\n",
       "      <td>Stripe</td>\n",
       "      <td>95.0</td>\n",
       "      <td>2014-01-23</td>\n",
       "      <td>United States</td>\n",
       "      <td>San Francisco</td>\n",
       "      <td>Fintech</td>\n",
       "      <td>Khosla Ventures, LowercaseCapital, capitalG</td>\n",
       "      <td>1</td>\n",
       "      <td>2014</td>\n",
       "      <td>3</td>\n",
       "    </tr>\n",
       "    <tr>\n",
       "      <th>4</th>\n",
       "      <td>Canva</td>\n",
       "      <td>40.0</td>\n",
       "      <td>2018-01-08</td>\n",
       "      <td>Australia</td>\n",
       "      <td>Surry Hills</td>\n",
       "      <td>Internet software &amp; services</td>\n",
       "      <td>Sequoia Capital China, Blackbird Ventures, Mat...</td>\n",
       "      <td>1</td>\n",
       "      <td>2018</td>\n",
       "      <td>4</td>\n",
       "    </tr>\n",
       "  </tbody>\n",
       "</table>\n",
       "</div>"
      ],
      "text/plain": [
       "     Company  Valuation ($B) Date Joined        Country          City   \\\n",
       "0  ByteDance           140.0  2017-04-07          China        Beijing   \n",
       "1     SpaceX           127.0  2012-12-01  United States      Hawthorne   \n",
       "2      SHEIN           100.0  2018-07-03          China       Shenzhen   \n",
       "3     Stripe            95.0  2014-01-23  United States  San Francisco   \n",
       "4      Canva            40.0  2018-01-08      Australia    Surry Hills   \n",
       "\n",
       "                          Industry  \\\n",
       "0          Artificial Intelligence   \n",
       "1                            Other   \n",
       "2  E-commerce & direct-to-consumer   \n",
       "3                          Fintech   \n",
       "4     Internet software & services   \n",
       "\n",
       "                                           Investors  Month  Year  id  \n",
       "0  Sequoia Capital China, SIG Asia Investments, S...      4  2017   0  \n",
       "1  Founders Fund, Draper Fisher Jurvetson, Rothen...     12  2012   1  \n",
       "2  Tiger Global Management, Sequoia Capital China...      7  2018   2  \n",
       "3        Khosla Ventures, LowercaseCapital, capitalG      1  2014   3  \n",
       "4  Sequoia Capital China, Blackbird Ventures, Mat...      1  2018   4  "
      ]
     },
     "execution_count": 21,
     "metadata": {},
     "output_type": "execute_result"
    }
   ],
   "source": [
    "# Cria uma coluna de id's\n",
    "Base_Dados['id'] = Base_Dados.index\n",
    "Base_Dados.head()"
   ]
  },
  {
   "cell_type": "code",
   "execution_count": 22,
   "id": "0a47fe01",
   "metadata": {
    "scrolled": false
   },
   "outputs": [
    {
     "data": {
      "text/html": [
       "<div>\n",
       "<style scoped>\n",
       "    .dataframe tbody tr th:only-of-type {\n",
       "        vertical-align: middle;\n",
       "    }\n",
       "\n",
       "    .dataframe tbody tr th {\n",
       "        vertical-align: top;\n",
       "    }\n",
       "\n",
       "    .dataframe thead th {\n",
       "        text-align: right;\n",
       "    }\n",
       "</style>\n",
       "<table border=\"1\" class=\"dataframe\">\n",
       "  <thead>\n",
       "    <tr style=\"text-align: right;\">\n",
       "      <th></th>\n",
       "      <th>Country</th>\n",
       "      <th>Year</th>\n",
       "      <th>Month</th>\n",
       "      <th>Company</th>\n",
       "      <th>id</th>\n",
       "    </tr>\n",
       "  </thead>\n",
       "  <tbody>\n",
       "    <tr>\n",
       "      <th>0</th>\n",
       "      <td>Argentina</td>\n",
       "      <td>2021</td>\n",
       "      <td>8</td>\n",
       "      <td>Uala</td>\n",
       "      <td>1</td>\n",
       "    </tr>\n",
       "    <tr>\n",
       "      <th>1</th>\n",
       "      <td>Australia</td>\n",
       "      <td>2018</td>\n",
       "      <td>1</td>\n",
       "      <td>Canva</td>\n",
       "      <td>1</td>\n",
       "    </tr>\n",
       "    <tr>\n",
       "      <th>2</th>\n",
       "      <td>Australia</td>\n",
       "      <td>2019</td>\n",
       "      <td>3</td>\n",
       "      <td>Airwallex</td>\n",
       "      <td>1</td>\n",
       "    </tr>\n",
       "    <tr>\n",
       "      <th>3</th>\n",
       "      <td>Australia</td>\n",
       "      <td>2021</td>\n",
       "      <td>5</td>\n",
       "      <td>SafetyCulture</td>\n",
       "      <td>1</td>\n",
       "    </tr>\n",
       "    <tr>\n",
       "      <th>4</th>\n",
       "      <td>Australia</td>\n",
       "      <td>2021</td>\n",
       "      <td>7</td>\n",
       "      <td>Culture Amp</td>\n",
       "      <td>1</td>\n",
       "    </tr>\n",
       "    <tr>\n",
       "      <th>...</th>\n",
       "      <td>...</td>\n",
       "      <td>...</td>\n",
       "      <td>...</td>\n",
       "      <td>...</td>\n",
       "      <td>...</td>\n",
       "    </tr>\n",
       "    <tr>\n",
       "      <th>1181</th>\n",
       "      <td>United States</td>\n",
       "      <td>2022</td>\n",
       "      <td>8</td>\n",
       "      <td>Flow</td>\n",
       "      <td>1</td>\n",
       "    </tr>\n",
       "    <tr>\n",
       "      <th>1182</th>\n",
       "      <td>United States</td>\n",
       "      <td>2022</td>\n",
       "      <td>8</td>\n",
       "      <td>Incredible Health</td>\n",
       "      <td>1</td>\n",
       "    </tr>\n",
       "    <tr>\n",
       "      <th>1183</th>\n",
       "      <td>United States</td>\n",
       "      <td>2022</td>\n",
       "      <td>8</td>\n",
       "      <td>Orna Therapeutics</td>\n",
       "      <td>1</td>\n",
       "    </tr>\n",
       "    <tr>\n",
       "      <th>1184</th>\n",
       "      <td>Vietnam</td>\n",
       "      <td>2021</td>\n",
       "      <td>10</td>\n",
       "      <td>Sky Mavis</td>\n",
       "      <td>1</td>\n",
       "    </tr>\n",
       "    <tr>\n",
       "      <th>1185</th>\n",
       "      <td>Vietnam</td>\n",
       "      <td>2021</td>\n",
       "      <td>12</td>\n",
       "      <td>MoMo</td>\n",
       "      <td>1</td>\n",
       "    </tr>\n",
       "  </tbody>\n",
       "</table>\n",
       "<p>1186 rows × 5 columns</p>\n",
       "</div>"
      ],
      "text/plain": [
       "            Country  Year  Month            Company  id\n",
       "0         Argentina  2021      8               Uala   1\n",
       "1         Australia  2018      1              Canva   1\n",
       "2         Australia  2019      3          Airwallex   1\n",
       "3         Australia  2021      5      SafetyCulture   1\n",
       "4         Australia  2021      7        Culture Amp   1\n",
       "...             ...   ...    ...                ...  ..\n",
       "1181  United States  2022      8               Flow   1\n",
       "1182  United States  2022      8  Incredible Health   1\n",
       "1183  United States  2022      8  Orna Therapeutics   1\n",
       "1184        Vietnam  2021     10          Sky Mavis   1\n",
       "1185        Vietnam  2021     12               MoMo   1\n",
       "\n",
       "[1186 rows x 5 columns]"
      ]
     },
     "execution_count": 22,
     "metadata": {},
     "output_type": "execute_result"
    }
   ],
   "source": [
    "# Agrupa os dados por país, ano, mês e empresa\n",
    "Analise_agrupada = Base_Dados.groupby( by=['Country', 'Year', 'Month', 'Company'] ).count()['id'].reset_index()\n",
    "\n",
    "Analise_agrupada"
   ]
  },
  {
   "cell_type": "markdown",
   "id": "c2292d26",
   "metadata": {},
   "source": [
    "**O dataframe Analise_agrupada exibe os dados agrupados por país (das empresas unicórnios), ano e mês (em que se tornaram unicórnios) e os nomes das empresas. A seguir, são exibidas apenas as empresas brasileiras que se tornaram unicórnios.**"
   ]
  },
  {
   "cell_type": "code",
   "execution_count": 23,
   "id": "f4501eea",
   "metadata": {
    "scrolled": false
   },
   "outputs": [
    {
     "data": {
      "text/html": [
       "<div>\n",
       "<style scoped>\n",
       "    .dataframe tbody tr th:only-of-type {\n",
       "        vertical-align: middle;\n",
       "    }\n",
       "\n",
       "    .dataframe tbody tr th {\n",
       "        vertical-align: top;\n",
       "    }\n",
       "\n",
       "    .dataframe thead th {\n",
       "        text-align: right;\n",
       "    }\n",
       "</style>\n",
       "<table border=\"1\" class=\"dataframe\">\n",
       "  <thead>\n",
       "    <tr style=\"text-align: right;\">\n",
       "      <th></th>\n",
       "      <th>Country</th>\n",
       "      <th>Year</th>\n",
       "      <th>Month</th>\n",
       "      <th>Company</th>\n",
       "      <th>id</th>\n",
       "    </tr>\n",
       "  </thead>\n",
       "  <tbody>\n",
       "    <tr>\n",
       "      <th>0</th>\n",
       "      <td>Brazil</td>\n",
       "      <td>2022</td>\n",
       "      <td>5</td>\n",
       "      <td>Dock</td>\n",
       "      <td>1</td>\n",
       "    </tr>\n",
       "    <tr>\n",
       "      <th>1</th>\n",
       "      <td>Brazil</td>\n",
       "      <td>2022</td>\n",
       "      <td>2</td>\n",
       "      <td>Neon</td>\n",
       "      <td>1</td>\n",
       "    </tr>\n",
       "    <tr>\n",
       "      <th>2</th>\n",
       "      <td>Brazil</td>\n",
       "      <td>2021</td>\n",
       "      <td>1</td>\n",
       "      <td>MadeiraMadeira</td>\n",
       "      <td>1</td>\n",
       "    </tr>\n",
       "    <tr>\n",
       "      <th>3</th>\n",
       "      <td>Brazil</td>\n",
       "      <td>2021</td>\n",
       "      <td>12</td>\n",
       "      <td>Olist</td>\n",
       "      <td>1</td>\n",
       "    </tr>\n",
       "    <tr>\n",
       "      <th>4</th>\n",
       "      <td>Brazil</td>\n",
       "      <td>2021</td>\n",
       "      <td>10</td>\n",
       "      <td>CargoX</td>\n",
       "      <td>1</td>\n",
       "    </tr>\n",
       "    <tr>\n",
       "      <th>5</th>\n",
       "      <td>Brazil</td>\n",
       "      <td>2021</td>\n",
       "      <td>9</td>\n",
       "      <td>CloudWalk</td>\n",
       "      <td>1</td>\n",
       "    </tr>\n",
       "    <tr>\n",
       "      <th>6</th>\n",
       "      <td>Brazil</td>\n",
       "      <td>2021</td>\n",
       "      <td>8</td>\n",
       "      <td>Unico</td>\n",
       "      <td>1</td>\n",
       "    </tr>\n",
       "    <tr>\n",
       "      <th>7</th>\n",
       "      <td>Brazil</td>\n",
       "      <td>2021</td>\n",
       "      <td>8</td>\n",
       "      <td>Nuvemshop</td>\n",
       "      <td>1</td>\n",
       "    </tr>\n",
       "    <tr>\n",
       "      <th>8</th>\n",
       "      <td>Brazil</td>\n",
       "      <td>2020</td>\n",
       "      <td>12</td>\n",
       "      <td>Creditas</td>\n",
       "      <td>1</td>\n",
       "    </tr>\n",
       "    <tr>\n",
       "      <th>9</th>\n",
       "      <td>Brazil</td>\n",
       "      <td>2020</td>\n",
       "      <td>12</td>\n",
       "      <td>C6 Bank</td>\n",
       "      <td>1</td>\n",
       "    </tr>\n",
       "    <tr>\n",
       "      <th>10</th>\n",
       "      <td>Brazil</td>\n",
       "      <td>2020</td>\n",
       "      <td>1</td>\n",
       "      <td>Loft</td>\n",
       "      <td>1</td>\n",
       "    </tr>\n",
       "    <tr>\n",
       "      <th>11</th>\n",
       "      <td>Brazil</td>\n",
       "      <td>2019</td>\n",
       "      <td>12</td>\n",
       "      <td>Wildlife Studios</td>\n",
       "      <td>1</td>\n",
       "    </tr>\n",
       "    <tr>\n",
       "      <th>12</th>\n",
       "      <td>Brazil</td>\n",
       "      <td>2019</td>\n",
       "      <td>10</td>\n",
       "      <td>EBANX</td>\n",
       "      <td>1</td>\n",
       "    </tr>\n",
       "    <tr>\n",
       "      <th>13</th>\n",
       "      <td>Brazil</td>\n",
       "      <td>2019</td>\n",
       "      <td>9</td>\n",
       "      <td>QuintoAndar</td>\n",
       "      <td>1</td>\n",
       "    </tr>\n",
       "    <tr>\n",
       "      <th>14</th>\n",
       "      <td>Brazil</td>\n",
       "      <td>2019</td>\n",
       "      <td>6</td>\n",
       "      <td>Loggi</td>\n",
       "      <td>1</td>\n",
       "    </tr>\n",
       "    <tr>\n",
       "      <th>15</th>\n",
       "      <td>Brazil</td>\n",
       "      <td>2018</td>\n",
       "      <td>11</td>\n",
       "      <td>iFood</td>\n",
       "      <td>1</td>\n",
       "    </tr>\n",
       "    <tr>\n",
       "      <th>16</th>\n",
       "      <td>Brazil</td>\n",
       "      <td>2018</td>\n",
       "      <td>7</td>\n",
       "      <td>Movile</td>\n",
       "      <td>1</td>\n",
       "    </tr>\n",
       "  </tbody>\n",
       "</table>\n",
       "</div>"
      ],
      "text/plain": [
       "   Country  Year  Month           Company  id\n",
       "0   Brazil  2022      5              Dock   1\n",
       "1   Brazil  2022      2              Neon   1\n",
       "2   Brazil  2021      1    MadeiraMadeira   1\n",
       "3   Brazil  2021     12             Olist   1\n",
       "4   Brazil  2021     10            CargoX   1\n",
       "5   Brazil  2021      9         CloudWalk   1\n",
       "6   Brazil  2021      8             Unico   1\n",
       "7   Brazil  2021      8         Nuvemshop   1\n",
       "8   Brazil  2020     12          Creditas   1\n",
       "9   Brazil  2020     12           C6 Bank   1\n",
       "10  Brazil  2020      1              Loft   1\n",
       "11  Brazil  2019     12  Wildlife Studios   1\n",
       "12  Brazil  2019     10             EBANX   1\n",
       "13  Brazil  2019      9       QuintoAndar   1\n",
       "14  Brazil  2019      6             Loggi   1\n",
       "15  Brazil  2018     11             iFood   1\n",
       "16  Brazil  2018      7            Movile   1"
      ]
     },
     "execution_count": 23,
     "metadata": {},
     "output_type": "execute_result"
    }
   ],
   "source": [
    "# Empresas no Brasil que se tornaram Unicórnios\n",
    "Analise_agrupada.loc[Analise_agrupada['Country'] == 'Brazil'].sort_values('Year', ascending=False).reset_index(drop = True)"
   ]
  },
  {
   "cell_type": "markdown",
   "id": "d0bed2e5",
   "metadata": {},
   "source": [
    "**De acordo com a base de dados, a empresa Dock é a empresa mais recente a se tornar um unicórnio no Brasil, no mês de maio (mês de n° 5) do ano de 2022.**"
   ]
  },
  {
   "cell_type": "code",
   "execution_count": 24,
   "id": "5075d4f4",
   "metadata": {},
   "outputs": [
    {
     "data": {
      "text/html": [
       "<div>\n",
       "<style scoped>\n",
       "    .dataframe tbody tr th:only-of-type {\n",
       "        vertical-align: middle;\n",
       "    }\n",
       "\n",
       "    .dataframe tbody tr th {\n",
       "        vertical-align: top;\n",
       "    }\n",
       "\n",
       "    .dataframe thead th {\n",
       "        text-align: right;\n",
       "    }\n",
       "</style>\n",
       "<table border=\"1\" class=\"dataframe\">\n",
       "  <thead>\n",
       "    <tr style=\"text-align: right;\">\n",
       "      <th></th>\n",
       "      <th>Country</th>\n",
       "      <th>Valuation ($B)</th>\n",
       "    </tr>\n",
       "  </thead>\n",
       "  <tbody>\n",
       "    <tr>\n",
       "      <th>0</th>\n",
       "      <td>United States</td>\n",
       "      <td>2069.89</td>\n",
       "    </tr>\n",
       "    <tr>\n",
       "      <th>1</th>\n",
       "      <td>China</td>\n",
       "      <td>678.59</td>\n",
       "    </tr>\n",
       "    <tr>\n",
       "      <th>2</th>\n",
       "      <td>United Kingdom</td>\n",
       "      <td>205.45</td>\n",
       "    </tr>\n",
       "    <tr>\n",
       "      <th>3</th>\n",
       "      <td>India</td>\n",
       "      <td>202.92</td>\n",
       "    </tr>\n",
       "    <tr>\n",
       "      <th>4</th>\n",
       "      <td>Germany</td>\n",
       "      <td>80.88</td>\n",
       "    </tr>\n",
       "    <tr>\n",
       "      <th>5</th>\n",
       "      <td>France</td>\n",
       "      <td>58.42</td>\n",
       "    </tr>\n",
       "    <tr>\n",
       "      <th>6</th>\n",
       "      <td>Australia</td>\n",
       "      <td>54.40</td>\n",
       "    </tr>\n",
       "    <tr>\n",
       "      <th>7</th>\n",
       "      <td>Canada</td>\n",
       "      <td>49.23</td>\n",
       "    </tr>\n",
       "    <tr>\n",
       "      <th>8</th>\n",
       "      <td>Israel</td>\n",
       "      <td>48.02</td>\n",
       "    </tr>\n",
       "    <tr>\n",
       "      <th>9</th>\n",
       "      <td>Brazil</td>\n",
       "      <td>40.08</td>\n",
       "    </tr>\n",
       "  </tbody>\n",
       "</table>\n",
       "</div>"
      ],
      "text/plain": [
       "          Country  Valuation ($B)\n",
       "0   United States         2069.89\n",
       "1           China          678.59\n",
       "2  United Kingdom          205.45\n",
       "3           India          202.92\n",
       "4         Germany           80.88\n",
       "5          France           58.42\n",
       "6       Australia           54.40\n",
       "7          Canada           49.23\n",
       "8          Israel           48.02\n",
       "9          Brazil           40.08"
      ]
     },
     "execution_count": 24,
     "metadata": {},
     "output_type": "execute_result"
    }
   ],
   "source": [
    "# Agrupa os dados por país e retorna as colunas Country e Valuation\n",
    "Analise_Pais = Base_Dados.groupby( by=['Country'] ).sum()['Valuation ($B)'].reset_index()\n",
    "\n",
    "# Organiza os dados do maior para o menor valor de Valuation\n",
    "Analise_Valor = Analise_Pais.sort_values('Valuation ($B)', ascending=False)\n",
    "\n",
    "# Retorna as 10 primeiras linhas\n",
    "Analise_Valor.reset_index(drop = True).head(10)"
   ]
  },
  {
   "cell_type": "markdown",
   "id": "8e8b06d9",
   "metadata": {},
   "source": [
    "**Se somados todos os valores de mercado das empresas unicórnios de cada país, conclui-se que a maior soma encontra-se nos EUA (mais de 2 trilhões de dólares). O Brasil encontra-se em 10° lugar no ranking com uma soma de mais de 40 bilhões de dólares. A seguir, as mesmas informações acima, contidas no dataframe Analise_Valor, são exibidas em 2 formas gráficas diferentes: gráfico de barras e gráfico de linhas com marcadores.**"
   ]
  },
  {
   "cell_type": "code",
   "execution_count": 25,
   "id": "2b25c5b2",
   "metadata": {},
   "outputs": [
    {
     "data": {
      "image/png": "[encoded data removed]",
      "text/plain": [
       "<Figure size 432x288 with 1 Axes>"
      ]
     },
     "metadata": {
      "needs_background": "light"
     },
     "output_type": "display_data"
    }
   ],
   "source": [
    "head = 10 # Config quantos países serão plotados no gráfico\n",
    "plt.title('Maiores Valuations ($B) por país - Top 10', fontsize=14) # Config um título para a figura\n",
    "sns.barplot(x = Analise_Valor['Country'].head(head), y = Analise_Valor['Valuation ($B)'].head(head))\n",
    "plt.tick_params(axis='y', which='major', labelsize=14) # Config os valores de freq no eixo y\n",
    "plt.xticks(rotation=45, ha='right', fontsize=14) # Config a rotação da legenda em x\n",
    "plt.ylabel('Valuation ($B)', fontsize=14); # Config a legenda em y"
   ]
  },
  {
   "cell_type": "code",
   "execution_count": 26,
   "id": "3403946f",
   "metadata": {},
   "outputs": [
    {
     "data": {
      "image/png": "[encoded data removed]",
      "text/plain": [
       "<Figure size 1080x432 with 1 Axes>"
      ]
     },
     "metadata": {
      "needs_background": "light"
     },
     "output_type": "display_data"
    }
   ],
   "source": [
    "head = 10 # Config quantos países serão plotados no gráfico\n",
    "plt.figure(figsize=(15,6))\n",
    "plt.plot(Analise_Valor['Country'].head(head), Analise_Valor['Valuation ($B)'].head(head), marker='o', mec = 'r', mfc = 'r')\n",
    "plt.title('Maiores Valuations ($B) por país - Top 10',fontsize=14) # Config um título para a figura\n",
    "plt.xticks(rotation=45, ha='right',fontsize=14); # Config a rotação das legendas no eixo x\n",
    "plt.ylabel('Valuation ($B)', fontsize=14); # Config a legenda em y\n",
    "plt.tick_params(axis='y', which='major', labelsize=14) # Config os valores de freq no eixo y"
   ]
  }
 ],
 "metadata": {
  "kernelspec": {
   "display_name": "Python 3 (ipykernel)",
   "language": "python",
   "name": "python3"
  },
  "language_info": {
   "codemirror_mode": {
    "name": "ipython",
    "version": 3
   },
   "file_extension": ".py",
   "mimetype": "text/x-python",
   "name": "python",
   "nbconvert_exporter": "python",
   "pygments_lexer": "ipython3",
   "version": "3.9.12"
  }
 },
 "nbformat": 4,
 "nbformat_minor": 5
}
