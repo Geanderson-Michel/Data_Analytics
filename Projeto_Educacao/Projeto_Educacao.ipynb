{
 "cells": [
  {
   "cell_type": "markdown",
   "id": "820b5dea",
   "metadata": {},
   "source": [
    "### Sobre os dados:\n",
    "\n",
    "* **Esse conjunto de dados consiste em uma base de notas obtidas por alunos nas disciplinas matemática, leitura e escrita. Além desse atributos, há também outros como gênero do aluno, nível de escolaridade dos pais, etnia/raça dos alunos, etc.**\n",
    "\n",
    "### Objetivo:\n",
    "\n",
    "* **Promover a análise dos dados de educação, baixados da plataforma Kaggle, relacionando as diferentes características dos estudantes ao aplicar os conhecimentos de estatística descritiva (média, mediana, quartis, etc) e estatística inferencial (teste de normalidade e pós-hoc, quando necessário).**"
   ]
  },
  {
   "cell_type": "code",
   "execution_count": 1,
   "id": "93cbd348",
   "metadata": {},
   "outputs": [],
   "source": [
    "# Importação das bibliotecas\n",
    "import pandas as pd\n",
    "import numpy as np\n",
    "import seaborn as sns\n",
    "import matplotlib.pyplot as plt\n",
    "import statsmodels.stats.weightstats as ws # Classe usada para aplicar o teste Z nas amostras com std's diferentes\n",
    "\n",
    "# Testes de Normalidade\n",
    "from scipy.stats import shapiro # Teste de Shapiro-Wilk\n",
    "from scipy.stats import normaltest as DAgostino_Pearson # Teste de D’Agostinho-Pearson\n",
    "from scipy.stats import anderson # Teste de Anderson-Darling\n",
    "from scipy.stats import cramervonmises # Teste de Cramér-von Mises\n",
    "from scipy.stats import kstest # Teste de Kolmogorov-Smirnov\n",
    "\n",
    "# Teste de hipótese não-paramétrico\n",
    "from scipy.stats import kruskal # Teste de Kruskal-Wallis - 2 ou mais amostras independentes\n",
    "from scipy.stats import mannwhitneyu # Teste de Mann-Whitney - 2 amostras independentes\n",
    "\n",
    "# Testes de hipótese paramétrico\n",
    "from scipy.stats import f_oneway # Teste ANOVA 1 vía - 2 ou mais amostras independentes\n",
    "from statsmodels.stats.weightstats import ztest, CompareMeans # Teste Z (2 formas de implementar) - 2 amostras independentes\n",
    "\n",
    "# Teste pós-hoc\n",
    "from statsmodels.stats.multicomp import MultiComparison # teste pós-hoc para o teste ANOVA 1 vía --> Teste de Tukey\n",
    "from scikit_posthocs.sp import posthoc_nemenyi_friedman # teste pós-hoc para o teste kruskal --> Teste de Nemenyi\n",
    "\n",
    "# Ignora alguns avisos\n",
    "import warnings\n",
    "warnings.filterwarnings('ignore')"
   ]
  },
  {
   "cell_type": "code",
   "execution_count": 2,
   "id": "41ef3e1e",
   "metadata": {},
   "outputs": [],
   "source": [
    "# Teste de normalidade - Shapiro-Wilk, D’Agostinho-Pearson, Anderson-Darling, Cramér-von Mises e Kolmogorov-Smirnov\n",
    "# Nível de significância: alpha = 0.05\n",
    "# H0 = Distribuição normal se p > alpha\n",
    "# H1 = Distribuição != normal se p <= alpha\n",
    "\n",
    "# Definindo um método para a execução de 5 testes de normalidade dos dados\n",
    "def teste_normalidade(variables, alpha = 0.05):\n",
    "    \n",
    "    for v in variables:\n",
    "        \n",
    "        ######################################### Shapiro-Wilk ################################################################\n",
    "            \n",
    "        _, p_shapiro = shapiro(v)\n",
    "            \n",
    "        if p_shapiro > alpha:        \n",
    "            print(f'Shapiro: p_value = {p_shapiro} - Distribuição normal')\n",
    "            \n",
    "        else:\n",
    "            print(f'Shapiro: p_value = {p_shapiro} - Distribuição não-normal')\n",
    "            \n",
    "        ################################## Teste de D’Agostinho-Pearson #######################################################\n",
    "        \n",
    "        _, p_dagostinho = DAgostino_Pearson(v)\n",
    "        \n",
    "        if p_dagostinho > alpha:            \n",
    "            print(f'D’Agostinho-Pearson: p_value = {p_dagostinho} - Distribuição normal')\n",
    "            \n",
    "        else:\n",
    "            print(f'D’Agostinho-Pearson: p_value = {p_dagostinho} - Distribuição não-normal')            \n",
    "        \n",
    "            \n",
    "        ####################################### Anderson-Darling ##############################################################\n",
    "            \n",
    "        ad_stat, ad_critical, _ = anderson(v, dist='norm')\n",
    "        \n",
    "        if alpha * 100 == 1.0:\n",
    "            \n",
    "            if ad_stat < ad_critical[4]:            \n",
    "                print(f'Anderson-Darling: ad_stat = {round(ad_stat, 3)} < ad_critical = {ad_critical[4]} - Distribuição normal')\n",
    "                \n",
    "            else:\n",
    "                print(f'Anderson-Darling: ad_stat = {round(ad_stat, 3)} >= ad_critical = {ad_critical[4]} - Distribuição não-normal')\n",
    "                \n",
    "        elif alpha * 100 == 2.5:\n",
    "            \n",
    "            if ad_stat < ad_critical[3]:            \n",
    "                print(f'Anderson-Darling: ad_stat = {round(ad_stat, 3)} < ad_critical = {ad_critical[3]} - Distribuição normal')\n",
    "                \n",
    "            else:\n",
    "                print(f'Anderson-Darling: ad_stat = {round(ad_stat, 3)} >= ad_critical = {ad_critical[3]} - Distribuição não-normal')\n",
    "        \n",
    "        \n",
    "        elif alpha * 100 == 5.0:\n",
    "            \n",
    "            if ad_stat < ad_critical[2]:            \n",
    "                print(f'Anderson-Darling: ad_stat = {round(ad_stat, 3)} < ad_critical = {ad_critical[2]} - Distribuição normal')\n",
    "                \n",
    "            else:\n",
    "                print(f'Anderson-Darling: ad_stat = {round(ad_stat, 3)} >= ad_critical = {ad_critical[2]} - Distribuição não-normal')\n",
    "                \n",
    "        elif alpha * 100 == 10.0:\n",
    "            \n",
    "            if ad_stat < ad_critical[1]:            \n",
    "                print(f'Anderson-Darling: ad_stat = {round(ad_stat, 3)} < ad_critical = {ad_critical[1]} - Distribuição normal')\n",
    "            \n",
    "            else:\n",
    "                print(f'Anderson-Darling: ad_stat = {round(ad_stat, 3)} >= ad_critical = {ad_critical[1]} - Distribuição não-normal')\n",
    "                \n",
    "        elif alpha * 100 == 15.0:\n",
    "            \n",
    "            if ad_stat < ad_critical[0]:            \n",
    "                print(f'Anderson-Darling: ad_stat = {round(ad_stat, 3)} < ad_critical = {ad_critical[0]} - Distribuição normal')\n",
    "                \n",
    "            else:\n",
    "                print(f'Anderson-Darling: ad_stat = {round(ad_stat, 3)} >= ad_critical = {ad_critical[0]} - Distribuição não-normal')\n",
    "            \n",
    "        ############################################# Cramér-von Mises ########################################################\n",
    "            \n",
    "        p_cramer = cramervonmises(v, 'norm').pvalue\n",
    "            \n",
    "        if p_cramer > alpha:        \n",
    "            print(f'Cramér-von Mises: p_value = {p_cramer} - Distribuição normal')\n",
    "        \n",
    "        else:\n",
    "            print(f'Cramér-von Mises: p_value = {p_cramer} - Distribuição não-normal')\n",
    "        \n",
    "            \n",
    "       ############################################## Kolmogorov-Smirnov ######################################################\n",
    "\n",
    "        _, p_k = kstest(v, 'norm')    \n",
    "            \n",
    "        if p_k > alpha:        \n",
    "            print(f'Kolmogorov-Smirnov: p_value = {p_k} - Distribuição normal')\n",
    "        \n",
    "        else:\n",
    "            print(f'Kolmogorov-Smirnov: p_value = {p_k} - Distribuição não-normal')\n",
    "            \n",
    "        print()"
   ]
  },
  {
   "cell_type": "code",
   "execution_count": 3,
   "id": "34edd8d0",
   "metadata": {},
   "outputs": [],
   "source": [
    "# Definindo um método para teste de hipótese\n",
    "# H0 = Não há diferença estatística significativa nas médias entre os grupos; p > alpha\n",
    "# H1 = Há diferença significativa na média entre os grupos; p <= alpha\n",
    "\n",
    "def teste_hipotese(p, alpha = 0.05):\n",
    "    \n",
    "    if p <= alpha:        \n",
    "        print(f'{p} <= {alpha} - Hipótese nula (H0) rejeitada')\n",
    "        \n",
    "    else:\n",
    "        print(f'{p} > {alpha} - Hipótese alternativa (H1) rejeitada')"
   ]
  },
  {
   "cell_type": "code",
   "execution_count": 4,
   "id": "f3a94e1c",
   "metadata": {},
   "outputs": [],
   "source": [
    "# Lê a Base de Dados\n",
    "Base_Dados = pd.read_csv('StudentsPerformance.csv')"
   ]
  },
  {
   "cell_type": "code",
   "execution_count": 5,
   "id": "f13824ac",
   "metadata": {},
   "outputs": [
    {
     "data": {
      "text/plain": [
       "(1000, 8)"
      ]
     },
     "execution_count": 5,
     "metadata": {},
     "output_type": "execute_result"
    }
   ],
   "source": [
    "# Qntd de linhas e colunas (1000 linhas e 8 colunas)\n",
    "Base_Dados.shape"
   ]
  },
  {
   "cell_type": "code",
   "execution_count": 6,
   "id": "eb768376",
   "metadata": {},
   "outputs": [
    {
     "data": {
      "text/plain": [
       "Index(['gender', 'race/ethnicity', 'parental level of education', 'lunch',\n",
       "       'test preparation course', 'math score', 'reading score',\n",
       "       'writing score'],\n",
       "      dtype='object')"
      ]
     },
     "execution_count": 6,
     "metadata": {},
     "output_type": "execute_result"
    }
   ],
   "source": [
    "# Exibe o nome das colunas\n",
    "Base_Dados.columns"
   ]
  },
  {
   "cell_type": "code",
   "execution_count": 7,
   "id": "e4ff51d8",
   "metadata": {},
   "outputs": [
    {
     "data": {
      "text/plain": [
       "gender                          2\n",
       "race/ethnicity                  5\n",
       "parental level of education     6\n",
       "lunch                           2\n",
       "test preparation course         2\n",
       "math score                     81\n",
       "reading score                  72\n",
       "writing score                  77\n",
       "dtype: int64"
      ]
     },
     "execution_count": 7,
     "metadata": {},
     "output_type": "execute_result"
    }
   ],
   "source": [
    "# Qntd de valores distintos em cada coluna\n",
    "Base_Dados.nunique()"
   ]
  },
  {
   "cell_type": "code",
   "execution_count": 8,
   "id": "3fc4062e",
   "metadata": {},
   "outputs": [
    {
     "name": "stdout",
     "output_type": "stream",
     "text": [
      "<class 'pandas.core.frame.DataFrame'>\n",
      "RangeIndex: 1000 entries, 0 to 999\n",
      "Data columns (total 8 columns):\n",
      " #   Column                       Non-Null Count  Dtype \n",
      "---  ------                       --------------  ----- \n",
      " 0   gender                       1000 non-null   object\n",
      " 1   race/ethnicity               1000 non-null   object\n",
      " 2   parental level of education  1000 non-null   object\n",
      " 3   lunch                        1000 non-null   object\n",
      " 4   test preparation course      1000 non-null   object\n",
      " 5   math score                   1000 non-null   int64 \n",
      " 6   reading score                1000 non-null   int64 \n",
      " 7   writing score                1000 non-null   int64 \n",
      "dtypes: int64(3), object(5)\n",
      "memory usage: 62.6+ KB\n"
     ]
    }
   ],
   "source": [
    "# Exibe os nomes das colunas, tipos de informação nas colunas, qntd de valores não nulos, memória para armazenamento dos dados e\n",
    "# qntd de instâncias (entradas)\n",
    "Base_Dados.info()"
   ]
  },
  {
   "cell_type": "code",
   "execution_count": 9,
   "id": "17d3fde6",
   "metadata": {},
   "outputs": [
    {
     "data": {
      "text/plain": [
       "gender                         0\n",
       "race/ethnicity                 0\n",
       "parental level of education    0\n",
       "lunch                          0\n",
       "test preparation course        0\n",
       "math score                     0\n",
       "reading score                  0\n",
       "writing score                  0\n",
       "dtype: int64"
      ]
     },
     "execution_count": 9,
     "metadata": {},
     "output_type": "execute_result"
    }
   ],
   "source": [
    "# Soma quantos valores nulos há em cada coluna\n",
    "Base_Dados.isnull().sum()"
   ]
  },
  {
   "cell_type": "code",
   "execution_count": 10,
   "id": "54719986",
   "metadata": {
    "scrolled": true
   },
   "outputs": [
    {
     "data": {
      "text/html": [
       "<div>\n",
       "<style scoped>\n",
       "    .dataframe tbody tr th:only-of-type {\n",
       "        vertical-align: middle;\n",
       "    }\n",
       "\n",
       "    .dataframe tbody tr th {\n",
       "        vertical-align: top;\n",
       "    }\n",
       "\n",
       "    .dataframe thead th {\n",
       "        text-align: right;\n",
       "    }\n",
       "</style>\n",
       "<table border=\"1\" class=\"dataframe\">\n",
       "  <thead>\n",
       "    <tr style=\"text-align: right;\">\n",
       "      <th></th>\n",
       "      <th>gender</th>\n",
       "      <th>race/ethnicity</th>\n",
       "      <th>parental level of education</th>\n",
       "      <th>lunch</th>\n",
       "      <th>test preparation course</th>\n",
       "      <th>math score</th>\n",
       "      <th>reading score</th>\n",
       "      <th>writing score</th>\n",
       "    </tr>\n",
       "  </thead>\n",
       "  <tbody>\n",
       "    <tr>\n",
       "      <th>0</th>\n",
       "      <td>female</td>\n",
       "      <td>group B</td>\n",
       "      <td>bachelor's degree</td>\n",
       "      <td>standard</td>\n",
       "      <td>none</td>\n",
       "      <td>72</td>\n",
       "      <td>72</td>\n",
       "      <td>74</td>\n",
       "    </tr>\n",
       "    <tr>\n",
       "      <th>1</th>\n",
       "      <td>female</td>\n",
       "      <td>group C</td>\n",
       "      <td>some college</td>\n",
       "      <td>standard</td>\n",
       "      <td>completed</td>\n",
       "      <td>69</td>\n",
       "      <td>90</td>\n",
       "      <td>88</td>\n",
       "    </tr>\n",
       "    <tr>\n",
       "      <th>2</th>\n",
       "      <td>female</td>\n",
       "      <td>group B</td>\n",
       "      <td>master's degree</td>\n",
       "      <td>standard</td>\n",
       "      <td>none</td>\n",
       "      <td>90</td>\n",
       "      <td>95</td>\n",
       "      <td>93</td>\n",
       "    </tr>\n",
       "    <tr>\n",
       "      <th>3</th>\n",
       "      <td>male</td>\n",
       "      <td>group A</td>\n",
       "      <td>associate's degree</td>\n",
       "      <td>free/reduced</td>\n",
       "      <td>none</td>\n",
       "      <td>47</td>\n",
       "      <td>57</td>\n",
       "      <td>44</td>\n",
       "    </tr>\n",
       "    <tr>\n",
       "      <th>4</th>\n",
       "      <td>male</td>\n",
       "      <td>group C</td>\n",
       "      <td>some college</td>\n",
       "      <td>standard</td>\n",
       "      <td>none</td>\n",
       "      <td>76</td>\n",
       "      <td>78</td>\n",
       "      <td>75</td>\n",
       "    </tr>\n",
       "  </tbody>\n",
       "</table>\n",
       "</div>"
      ],
      "text/plain": [
       "   gender race/ethnicity parental level of education         lunch  \\\n",
       "0  female        group B           bachelor's degree      standard   \n",
       "1  female        group C                some college      standard   \n",
       "2  female        group B             master's degree      standard   \n",
       "3    male        group A          associate's degree  free/reduced   \n",
       "4    male        group C                some college      standard   \n",
       "\n",
       "  test preparation course  math score  reading score  writing score  \n",
       "0                    none          72             72             74  \n",
       "1               completed          69             90             88  \n",
       "2                    none          90             95             93  \n",
       "3                    none          47             57             44  \n",
       "4                    none          76             78             75  "
      ]
     },
     "execution_count": 10,
     "metadata": {},
     "output_type": "execute_result"
    }
   ],
   "source": [
    "# Exibe as 5 primeiras linhas do dataframe\n",
    "Base_Dados.head()"
   ]
  },
  {
   "cell_type": "code",
   "execution_count": 11,
   "id": "fe0627e8",
   "metadata": {},
   "outputs": [
    {
     "data": {
      "text/html": [
       "<div>\n",
       "<style scoped>\n",
       "    .dataframe tbody tr th:only-of-type {\n",
       "        vertical-align: middle;\n",
       "    }\n",
       "\n",
       "    .dataframe tbody tr th {\n",
       "        vertical-align: top;\n",
       "    }\n",
       "\n",
       "    .dataframe thead th {\n",
       "        text-align: right;\n",
       "    }\n",
       "</style>\n",
       "<table border=\"1\" class=\"dataframe\">\n",
       "  <thead>\n",
       "    <tr style=\"text-align: right;\">\n",
       "      <th></th>\n",
       "      <th>math score</th>\n",
       "      <th>reading score</th>\n",
       "      <th>writing score</th>\n",
       "    </tr>\n",
       "  </thead>\n",
       "  <tbody>\n",
       "    <tr>\n",
       "      <th>count</th>\n",
       "      <td>1000.00000</td>\n",
       "      <td>1000.000000</td>\n",
       "      <td>1000.000000</td>\n",
       "    </tr>\n",
       "    <tr>\n",
       "      <th>mean</th>\n",
       "      <td>66.08900</td>\n",
       "      <td>69.169000</td>\n",
       "      <td>68.054000</td>\n",
       "    </tr>\n",
       "    <tr>\n",
       "      <th>std</th>\n",
       "      <td>15.16308</td>\n",
       "      <td>14.600192</td>\n",
       "      <td>15.195657</td>\n",
       "    </tr>\n",
       "    <tr>\n",
       "      <th>min</th>\n",
       "      <td>0.00000</td>\n",
       "      <td>17.000000</td>\n",
       "      <td>10.000000</td>\n",
       "    </tr>\n",
       "    <tr>\n",
       "      <th>25%</th>\n",
       "      <td>57.00000</td>\n",
       "      <td>59.000000</td>\n",
       "      <td>57.750000</td>\n",
       "    </tr>\n",
       "    <tr>\n",
       "      <th>50%</th>\n",
       "      <td>66.00000</td>\n",
       "      <td>70.000000</td>\n",
       "      <td>69.000000</td>\n",
       "    </tr>\n",
       "    <tr>\n",
       "      <th>75%</th>\n",
       "      <td>77.00000</td>\n",
       "      <td>79.000000</td>\n",
       "      <td>79.000000</td>\n",
       "    </tr>\n",
       "    <tr>\n",
       "      <th>max</th>\n",
       "      <td>100.00000</td>\n",
       "      <td>100.000000</td>\n",
       "      <td>100.000000</td>\n",
       "    </tr>\n",
       "  </tbody>\n",
       "</table>\n",
       "</div>"
      ],
      "text/plain": [
       "       math score  reading score  writing score\n",
       "count  1000.00000    1000.000000    1000.000000\n",
       "mean     66.08900      69.169000      68.054000\n",
       "std      15.16308      14.600192      15.195657\n",
       "min       0.00000      17.000000      10.000000\n",
       "25%      57.00000      59.000000      57.750000\n",
       "50%      66.00000      70.000000      69.000000\n",
       "75%      77.00000      79.000000      79.000000\n",
       "max     100.00000     100.000000     100.000000"
      ]
     },
     "execution_count": 11,
     "metadata": {},
     "output_type": "execute_result"
    }
   ],
   "source": [
    "# Análise descritiva dos dados\n",
    "Base_Dados.describe()"
   ]
  },
  {
   "cell_type": "markdown",
   "id": "bbfbd6c2",
   "metadata": {},
   "source": [
    "Pode-se verificar que as notas mínimas e máximas para cada teste foram\n",
    "\n",
    "* Matemática: nota mínima = 0; nota máxima = 100;\n",
    "\n",
    "* Leitura: nota mínima = 17; nota máxima = 100;\n",
    "\n",
    "* Escrita: nota mínima = 10; nota máxima = 100.\n",
    "\n",
    "Seguindo com a análise, verifica-se que\n",
    "\n",
    "* Matemática: 25% dos alunos conseguiram nota de até 57 pontos; 50% dos alunos conseguiram até 66 pontos; 75% dos alunos conseguiram até 77 pontos;\n",
    "\n",
    "* Leitura: 25% dos alunos conseguiram nota de até 59 pontos; 50% dos alunos conseguiram até 70 pontos; 75% dos alunos conseguiram até 79 pontos;\n",
    "\n",
    "* Escrita: 25% dos alunos conseguiram nota de até 57,75 pontos; 50% dos alunos conseguiram até 69 pontos; 75% dos alunos conseguiram até 79 pontos.\n",
    "\n",
    "A média e o desvio padrão (\"erro\" ou \"incerteza\") são\n",
    "\n",
    "* Matemática: 66.089 +- 15.163;\n",
    "* Leitura: 69.169 +- 14.600;\n",
    "* Escrita: 68.054 +- 15.196."
   ]
  },
  {
   "cell_type": "code",
   "execution_count": 12,
   "id": "e7d34fef",
   "metadata": {
    "scrolled": true
   },
   "outputs": [
    {
     "data": {
      "image/png": "[encoded data removed]",
      "text/plain": [
       "<Figure size 432x288 with 1 Axes>"
      ]
     },
     "metadata": {
      "needs_background": "light"
     },
     "output_type": "display_data"
    }
   ],
   "source": [
    "# Gráfico de boxplot para comparar as notas de matemática entre os diferentes sexos\n",
    "sns.boxplot(data=Base_Dados, x='math score', y='gender')\n",
    "plt.ylabel('gender', fontsize = 12, fontweight = 'bold')\n",
    "plt.xlabel('math score', fontsize = 12, fontweight = 'bold')\n",
    "plt.xticks(range(0, 104, 4));"
   ]
  },
  {
   "cell_type": "markdown",
   "id": "02daae25",
   "metadata": {},
   "source": [
    "Observa-se que\n",
    "\n",
    "* alguns _outliers_ estão presentes nas bases de dados de matemática;\n",
    "* a nota mínima dos alunos é ligeiramente maior que a das alunas;\n",
    "* a mediana das notas dos alunos é ligeiramente maior que a das alunas.\n",
    "\n",
    "Para verificar se essa diferença entre as notas é estatísticamente significativa, é necessário a execução de um teste de normalidade para, após isso, efetuar um teste de hipótese estatístico apropriado.\n",
    "\n",
    "**Alguns tratamento dos dados serão feitos, como**\n",
    "\n",
    "* Exclusão dos *outliers* das notas de matemática das alunas e dos alunos;\n",
    "* Igualar a quantidade de valores de entrada (notas) de matemática das alunas com a quantidade pertencente aos alunos;\n",
    "* Gerar 2 novos *boxplots* para verificar se ainda existem *outliers* nas bases de dados de matematica dos alunos e alunas."
   ]
  },
  {
   "cell_type": "code",
   "execution_count": 13,
   "id": "a8390086",
   "metadata": {},
   "outputs": [],
   "source": [
    "# Separação das notas de matemática pelo sexo e exclusão de outliers\n",
    "female_math = Base_Dados[Base_Dados['gender'] == 'female']['math score']\n",
    "female_math = female_math[female_math > 24] # exclui outliers - exclui valores abaixo de 24\n",
    "\n",
    "male_math = Base_Dados[Base_Dados['gender'] == 'male']['math score']\n",
    "male_math = male_math[male_math > 30] # exclui outliers - exclui valores abaixo de 30"
   ]
  },
  {
   "cell_type": "code",
   "execution_count": 14,
   "id": "dc602cdb",
   "metadata": {},
   "outputs": [
    {
     "data": {
      "text/plain": [
       "count    478.000000\n",
       "mean      69.062762\n",
       "std       13.939230\n",
       "min       35.000000\n",
       "25%       59.000000\n",
       "50%       69.000000\n",
       "75%       79.000000\n",
       "max      100.000000\n",
       "Name: math score, dtype: float64"
      ]
     },
     "execution_count": 14,
     "metadata": {},
     "output_type": "execute_result"
    }
   ],
   "source": [
    "# Estatística descritiva das notas de matemática dos alunos --> count = 478\n",
    "male_math.describe()"
   ]
  },
  {
   "cell_type": "code",
   "execution_count": 15,
   "id": "8b9bac93",
   "metadata": {},
   "outputs": [
    {
     "data": {
      "text/plain": [
       "count    511.000000\n",
       "mean      64.281800\n",
       "std       14.530794\n",
       "min       26.000000\n",
       "25%       54.000000\n",
       "50%       65.000000\n",
       "75%       74.000000\n",
       "max      100.000000\n",
       "Name: math score, dtype: float64"
      ]
     },
     "execution_count": 15,
     "metadata": {},
     "output_type": "execute_result"
    }
   ],
   "source": [
    "# Estatística descritiva das notas de matemática das alunas --> count = 511\n",
    "female_math.describe()"
   ]
  },
  {
   "cell_type": "code",
   "execution_count": 16,
   "id": "db99fc6b",
   "metadata": {},
   "outputs": [],
   "source": [
    "# Iguala a qntd de notas das alunas com a qntd de notas dos alunos\n",
    "female_math = female_math.sample(n = len(male_math), random_state = 0)"
   ]
  },
  {
   "cell_type": "code",
   "execution_count": 17,
   "id": "a19fcce8",
   "metadata": {},
   "outputs": [
    {
     "data": {
      "text/plain": [
       "count    478.000000\n",
       "mean      64.449791\n",
       "std       14.605238\n",
       "min       26.000000\n",
       "25%       54.000000\n",
       "50%       65.000000\n",
       "75%       74.000000\n",
       "max      100.000000\n",
       "Name: math score, dtype: float64"
      ]
     },
     "execution_count": 17,
     "metadata": {},
     "output_type": "execute_result"
    }
   ],
   "source": [
    "# Estatística descritiva dos dados de matemática das alunas --> count = 478, igual ao count dos alunos.\n",
    "female_math.describe()"
   ]
  },
  {
   "cell_type": "code",
   "execution_count": 18,
   "id": "c0709d2b",
   "metadata": {},
   "outputs": [
    {
     "data": {
      "image/png": "[encoded data removed]",
      "text/plain": [
       "<Figure size 432x288 with 1 Axes>"
      ]
     },
     "metadata": {
      "needs_background": "light"
     },
     "output_type": "display_data"
    }
   ],
   "source": [
    "# Gráfico de boxplot das notas de matemática das alunas - sem outliers\n",
    "sns.boxplot(data = female_math, x = female_math.values)\n",
    "plt.ylabel('female', fontsize = 12, fontweight = 'bold')\n",
    "plt.xlabel('math score', fontsize = 12, fontweight = 'bold')\n",
    "plt.xticks(range(0, 104, 4));"
   ]
  },
  {
   "cell_type": "code",
   "execution_count": 19,
   "id": "a1094fc9",
   "metadata": {},
   "outputs": [
    {
     "data": {
      "image/png": "[encoded data removed]",
      "text/plain": [
       "<Figure size 432x288 with 1 Axes>"
      ]
     },
     "metadata": {
      "needs_background": "light"
     },
     "output_type": "display_data"
    }
   ],
   "source": [
    "# Gráfico de boxplot das notas de matemática dos alunos - sem outliers\n",
    "sns.boxplot(data = male_math, x = male_math.values)\n",
    "plt.ylabel('male', fontsize = 12, fontweight = 'bold')\n",
    "plt.xlabel('math score', fontsize = 12, fontweight = 'bold')\n",
    "plt.xticks(range(0, 104, 4));"
   ]
  },
  {
   "cell_type": "code",
   "execution_count": 20,
   "id": "065229f5",
   "metadata": {},
   "outputs": [],
   "source": [
    "# Cria um objeto para armazenar as variáveis com as notas de matemática tratadas\n",
    "variables = [female_math, male_math]"
   ]
  },
  {
   "cell_type": "code",
   "execution_count": 21,
   "id": "8af7c1d9",
   "metadata": {
    "scrolled": true
   },
   "outputs": [
    {
     "name": "stdout",
     "output_type": "stream",
     "text": [
      "Shapiro: p_value = 0.2548423707485199 - Distribuição normal\n",
      "D’Agostinho-Pearson: p_value = 0.5080394855396844 - Distribuição normal\n",
      "Anderson-Darling: ad_stat = 0.341 < ad_critical = 0.781 - Distribuição normal\n",
      "Cramér-von Mises: p_value = 0 - Distribuição não-normal\n",
      "Kolmogorov-Smirnov: p_value = 0.0 - Distribuição não-normal\n",
      "\n",
      "Shapiro: p_value = 0.010235482826828957 - Distribuição não-normal\n",
      "D’Agostinho-Pearson: p_value = 0.0010188115695083056 - Distribuição não-normal\n",
      "Anderson-Darling: ad_stat = 0.711 < ad_critical = 0.781 - Distribuição normal\n",
      "Cramér-von Mises: p_value = 0 - Distribuição não-normal\n",
      "Kolmogorov-Smirnov: p_value = 0.0 - Distribuição não-normal\n",
      "\n"
     ]
    }
   ],
   "source": [
    "# Efetua o teste de normalidade para as notas de matemática das alunas e para as notas de matemática dos alunos, respec.\n",
    "teste_normalidade(variables)"
   ]
  },
  {
   "cell_type": "markdown",
   "id": "119014f8",
   "metadata": {},
   "source": [
    "Verifica-se que, de acordo com os testes de normalidade executados, os registros para as notas de matemática das alunas apresentam uma distribuição normal.<br>\n",
    "\n",
    "Já os registros para as notas de matemática dos alunos **<font color='red'>não</font>** seguem uma distribuição normal.<br>\n",
    "\n",
    "Aplica-se, a seguir, o teste não-paramétrico de Mann-Whitney para saber se há diferença estatística significativa entre as medianas das notas de matemática dos alunos e alunas."
   ]
  },
  {
   "cell_type": "code",
   "execution_count": 22,
   "id": "5ef86f41",
   "metadata": {},
   "outputs": [
    {
     "name": "stdout",
     "output_type": "stream",
     "text": [
      "pvalue: 2.587938440726114e-06\n"
     ]
    }
   ],
   "source": [
    "# Teste não-paramétrico - Mann-Whitney\n",
    "_, p_mann = mannwhitneyu(female_math, male_math)\n",
    "print(f'pvalue: {p_mann}')"
   ]
  },
  {
   "cell_type": "code",
   "execution_count": 23,
   "id": "a927ee98",
   "metadata": {},
   "outputs": [
    {
     "name": "stdout",
     "output_type": "stream",
     "text": [
      "pvalue_std_iguais: 5.871662486253051e-07\n",
      "\n",
      "pvalue_std_diferentes: 5.871662486253051e-07\n"
     ]
    }
   ],
   "source": [
    "# A título de curiosidade, aplicou-se o teste paramétrico Z\n",
    "\n",
    "# Aplica o teste z, considerando os desvios padrões de x1 e x2 iguais\n",
    "_, p_ztest_1 = ztest(female_math, male_math,\n",
    "             alternative='two-sided')\n",
    "print(f'pvalue_std_iguais: {p_ztest_1}')\n",
    "print()\n",
    "\n",
    "# Aplica o teste z, considerando os desvios padrões de x1 e x2 diferentes\n",
    "v1 = ws.DescrStatsW(male_math)\n",
    "v2 = ws.DescrStatsW(female_math)\n",
    "_, p_ztest_2 = ws.CompareMeans(v1,v2).ztest_ind(alternative='two-sided', usevar='unequal')\n",
    "print(f'pvalue_std_diferentes: {p_ztest_2}')"
   ]
  },
  {
   "cell_type": "code",
   "execution_count": 24,
   "id": "c2e50ba1",
   "metadata": {},
   "outputs": [
    {
     "name": "stdout",
     "output_type": "stream",
     "text": [
      "2.587938440726114e-06 <= 0.05 - Hipótese nula (H0) rejeitada\n",
      "5.871662486253051e-07 <= 0.05 - Hipótese nula (H0) rejeitada\n"
     ]
    }
   ],
   "source": [
    "# Verificação dos testes de hipótese:\n",
    "\n",
    "# H0 = Não há diferença estatística significativa entre as medianas dos grupos\n",
    "# H1 = Há diferença estatística significativa entre as medianas dos grupos\n",
    "# se p <= alpha: H0 rejeitada; p > alpha: H1 rejeitada. \n",
    "teste_hipotese(p_mann)\n",
    "teste_hipotese(p_ztest_2)"
   ]
  },
  {
   "cell_type": "markdown",
   "id": "0e7535be",
   "metadata": {},
   "source": [
    "Após a execução dos testes de normalidade nas notas de matemática para alunos e alunas, aplicou-se o teste não-paramétrico de Mann-Whitney aos dados (para 2 amostras independentes) que gerou um p-value menor que alpha = 0.05 e, portanto, as medianas das notas de matemática para os alunos e para alunas apresentam uma diferença estatística significativa com 95% de confiança. "
   ]
  },
  {
   "cell_type": "code",
   "execution_count": 25,
   "id": "5a9150b7",
   "metadata": {},
   "outputs": [
    {
     "data": {
      "image/png": "[encoded data removed]",
      "text/plain": [
       "<Figure size 432x288 with 1 Axes>"
      ]
     },
     "metadata": {
      "needs_background": "light"
     },
     "output_type": "display_data"
    }
   ],
   "source": [
    "# Gráfico de boxplot para comparar as notas de leitura entre os diferentes sexos\n",
    "sns.boxplot(data=Base_Dados, x='reading score', y='gender')\n",
    "plt.ylabel('gender', fontsize = 12, fontweight = 'bold')\n",
    "plt.xlabel('reading score', fontsize = 12, fontweight = 'bold')\n",
    "plt.xticks(range(0, 103, 4));"
   ]
  },
  {
   "cell_type": "markdown",
   "id": "46c924ca",
   "metadata": {},
   "source": [
    "Observa-se que\n",
    "\n",
    "* alguns _outliers_ estão presentes nas bases de dados;\n",
    "* a nota mínima das alunas é ligeiramente maior que a dos alunos;\n",
    "* A mediana das notas das alunas é ligeiramente maior que a dos alunos.\n",
    "\n",
    "Para verificar se essa diferença entre as notas é estatísticamente significativa, é necessário a execução de um teste de normalidade para, após isso, efetuar um teste de hipótese estatístico apropriado.\n",
    "\n",
    "**Alguns tratamento dos dados serão feitos, como**\n",
    "\n",
    "* Exclusão dos *outliers* das notas de leitura das alunas e dos alunos;\n",
    "* Igualar a quantidade de valores de entrada (notas) de leitura das alunas com a quantidade pertencente aos alunos;\n",
    "* Gerar 2 novos *boxplots* para verificar se ainda existem *outliers* nas bases de dados de leitura dos alunos e alunas."
   ]
  },
  {
   "cell_type": "code",
   "execution_count": 26,
   "id": "3dfca9e6",
   "metadata": {},
   "outputs": [],
   "source": [
    "# Separação das notas de leitura pelo sexo e exclusão de outliers\n",
    "female_read = Base_Dados[Base_Dados['gender'] == 'female']['reading score']\n",
    "female_read = female_read[female_read > 34] # retira outliers - exclui valores abaixo de 34\n",
    "\n",
    "male_read = Base_Dados[Base_Dados['gender'] == 'male']['reading score']\n",
    "male_read = male_read[male_read > 28] # retira outliers - exclui valores abaixo de 28"
   ]
  },
  {
   "cell_type": "code",
   "execution_count": 27,
   "id": "f7b14379",
   "metadata": {},
   "outputs": [
    {
     "data": {
      "text/plain": [
       "count    478.000000\n",
       "mean      65.809623\n",
       "std       13.491179\n",
       "min       29.000000\n",
       "25%       56.000000\n",
       "50%       66.000000\n",
       "75%       75.000000\n",
       "max      100.000000\n",
       "Name: reading score, dtype: float64"
      ]
     },
     "execution_count": 27,
     "metadata": {},
     "output_type": "execute_result"
    }
   ],
   "source": [
    "# Estatística descritiva das notas de leitura dos alunos --> count = 478\n",
    "male_read.describe()"
   ]
  },
  {
   "cell_type": "code",
   "execution_count": 28,
   "id": "a095607b",
   "metadata": {},
   "outputs": [
    {
     "data": {
      "text/plain": [
       "count    511.000000\n",
       "mean      73.209393\n",
       "std       13.502258\n",
       "min       38.000000\n",
       "25%       64.000000\n",
       "50%       73.000000\n",
       "75%       83.000000\n",
       "max      100.000000\n",
       "Name: reading score, dtype: float64"
      ]
     },
     "execution_count": 28,
     "metadata": {},
     "output_type": "execute_result"
    }
   ],
   "source": [
    "# Estatística descritiva das notas de leitura das alunas --> count = 511\n",
    "female_read.describe()"
   ]
  },
  {
   "cell_type": "code",
   "execution_count": 29,
   "id": "332dab1a",
   "metadata": {},
   "outputs": [],
   "source": [
    "# Iguala a qntd de notas das alunas com a qntd de notas dos alunos\n",
    "female_read = female_read.sample(n = len(male_read), random_state = 0)"
   ]
  },
  {
   "cell_type": "code",
   "execution_count": 30,
   "id": "a2857300",
   "metadata": {},
   "outputs": [
    {
     "data": {
      "text/plain": [
       "count    478.000000\n",
       "mean      73.271967\n",
       "std       13.482549\n",
       "min       38.000000\n",
       "25%       64.000000\n",
       "50%       74.000000\n",
       "75%       83.000000\n",
       "max      100.000000\n",
       "Name: reading score, dtype: float64"
      ]
     },
     "execution_count": 30,
     "metadata": {},
     "output_type": "execute_result"
    }
   ],
   "source": [
    "# Estatística descritiva dos dados de leitura das alunas --> count = 478, igual ao count dos alunos.\n",
    "female_read.describe()"
   ]
  },
  {
   "cell_type": "code",
   "execution_count": 31,
   "id": "b781ca8c",
   "metadata": {
    "scrolled": false
   },
   "outputs": [
    {
     "data": {
      "image/png": "[encoded data removed]",
      "text/plain": [
       "<Figure size 432x288 with 1 Axes>"
      ]
     },
     "metadata": {
      "needs_background": "light"
     },
     "output_type": "display_data"
    }
   ],
   "source": [
    "# Gráfico de boxplot das notas de leitura das alunas - sem outliers\n",
    "sns.boxplot(data = female_read, x = female_read.values)\n",
    "plt.ylabel('female', fontsize = 12, fontweight = 'bold')\n",
    "plt.xlabel('read score', fontsize = 12, fontweight = 'bold')\n",
    "plt.xticks(range(0, 104, 4));"
   ]
  },
  {
   "cell_type": "code",
   "execution_count": 32,
   "id": "ced6d02d",
   "metadata": {},
   "outputs": [
    {
     "data": {
      "image/png": "[encoded data removed]",
      "text/plain": [
       "<Figure size 432x288 with 1 Axes>"
      ]
     },
     "metadata": {
      "needs_background": "light"
     },
     "output_type": "display_data"
    }
   ],
   "source": [
    "# Gráfico de boxplot das notas de leitura dos alunos - sem outliers\n",
    "sns.boxplot(data = male_read, x = male_read.values)\n",
    "plt.ylabel('male', fontsize = 12, fontweight = 'bold')\n",
    "plt.xlabel('read score', fontsize = 12, fontweight = 'bold')\n",
    "plt.xticks(range(0, 104, 4));"
   ]
  },
  {
   "cell_type": "code",
   "execution_count": 33,
   "id": "5e6d29e8",
   "metadata": {},
   "outputs": [],
   "source": [
    "# Cria um objeto para armazenar as variáveis com as notas de leitura tratadas\n",
    "variables = [female_read, male_read]"
   ]
  },
  {
   "cell_type": "code",
   "execution_count": 34,
   "id": "4c9b01c8",
   "metadata": {
    "scrolled": true
   },
   "outputs": [
    {
     "name": "stdout",
     "output_type": "stream",
     "text": [
      "Shapiro: p_value = 0.0033574916888028383 - Distribuição não-normal\n",
      "D’Agostinho-Pearson: p_value = 0.038993944969424474 - Distribuição não-normal\n",
      "Anderson-Darling: ad_stat = 0.617 < ad_critical = 0.781 - Distribuição normal\n",
      "Cramér-von Mises: p_value = 0 - Distribuição não-normal\n",
      "Kolmogorov-Smirnov: p_value = 0.0 - Distribuição não-normal\n",
      "\n",
      "Shapiro: p_value = 0.0847172960639 - Distribuição normal\n",
      "D’Agostinho-Pearson: p_value = 0.02889408280286129 - Distribuição não-normal\n",
      "Anderson-Darling: ad_stat = 0.739 < ad_critical = 0.781 - Distribuição normal\n",
      "Cramér-von Mises: p_value = 0 - Distribuição não-normal\n",
      "Kolmogorov-Smirnov: p_value = 0.0 - Distribuição não-normal\n",
      "\n"
     ]
    }
   ],
   "source": [
    "# Efetua o teste de normalidade para as notas de leitura das alunas e dos alunos, respec.\n",
    "teste_normalidade(variables)"
   ]
  },
  {
   "cell_type": "markdown",
   "id": "a7404084",
   "metadata": {},
   "source": [
    "Verifica-se, que de acordo com os testes de normalidade executados, os registros para as notas de leitura das alunas e dos alunos **<font color='red'>não</font>** seguem uma distribuição normal.<br>\n",
    "\n",
    "Aplica-se, a seguir, o teste não-paramétrico de Mann-Whitney para saber se há diferença estatística significativa entre as medianas das notas de leitura dos alunos e alunas."
   ]
  },
  {
   "cell_type": "code",
   "execution_count": 35,
   "id": "f9827685",
   "metadata": {},
   "outputs": [
    {
     "name": "stdout",
     "output_type": "stream",
     "text": [
      "pvalue: 6.688539932861767e-16\n"
     ]
    }
   ],
   "source": [
    "# Teste não-paramétrico - Mann-Whitney\n",
    "_, p = mannwhitneyu(female_read, male_read)\n",
    "print(f'pvalue: {p}')"
   ]
  },
  {
   "cell_type": "code",
   "execution_count": 36,
   "id": "1cc23838",
   "metadata": {},
   "outputs": [
    {
     "name": "stdout",
     "output_type": "stream",
     "text": [
      "6.688539932861767e-16 <= 0.05 - Hipótese nula (H0) rejeitada\n"
     ]
    }
   ],
   "source": [
    "# Verificação do teste de hipótese:\n",
    "\n",
    "# H0 = Não há diferença significativa entre as medianas entre os grupos\n",
    "# H1 = Há diferença significativa entre as medianas entre os grupos\n",
    "# se p <= alpha: H0 rejeitada; p > alpha: H1 rejeitada. \n",
    "teste_hipotese(p)"
   ]
  },
  {
   "cell_type": "markdown",
   "id": "15d7f79f",
   "metadata": {},
   "source": [
    "Após a execução dos testes de normalidade nas notas de leitura para alunos e alunas, aplicou-se o teste não-paramétrico de Mann-Whitney aos dados (para 2 amostras independentes) que gerou um p-value menor que alpha = 0.05 e, portanto, as medianas das notas de leitura para os alunos e para alunas apresentam uma diferença estatística significativa com 95% de confiança. "
   ]
  },
  {
   "cell_type": "code",
   "execution_count": 37,
   "id": "75fed6dd",
   "metadata": {},
   "outputs": [
    {
     "data": {
      "image/png": "[encoded data removed]",
      "text/plain": [
       "<Figure size 432x288 with 1 Axes>"
      ]
     },
     "metadata": {
      "needs_background": "light"
     },
     "output_type": "display_data"
    }
   ],
   "source": [
    "# Gráfico de boxplot para comparar as notas de escrita entre os diferentes sexos\n",
    "sns.boxplot(data=Base_Dados, x='writing score', y='gender')\n",
    "plt.ylabel('gender', fontsize = 12, fontweight = 'bold')\n",
    "plt.xlabel('writing score', fontsize = 12, fontweight = 'bold')\n",
    "plt.xticks(range(0, 103, 4));"
   ]
  },
  {
   "cell_type": "markdown",
   "id": "55c139f0",
   "metadata": {},
   "source": [
    "Observa-se que\n",
    "\n",
    "* alguns _outliers_ estão presentes nas bases de dados;\n",
    "* a nota mínima das alunas é maior que a dos alunos;\n",
    "* A mediana das notas das alunas é maior que a dos alunos.\n",
    "\n",
    "Para verificar se essa diferença entre as notas é estatísticamente significativa, é necessário a execução de um teste de normalidade para, após isso, efetuar um teste de hipótese estatístico apropriado.\n",
    "\n",
    "**Alguns tratamento dos dados serão feitos, como**\n",
    "\n",
    "* Exclusão dos *outliers* das notas de escrita das alunas e dos alunos;\n",
    "* Igualar a quantidade de valores de entrada (notas) de escrita das alunas com a quantidade pertencente aos alunos;\n",
    "* Gerar 2 novos *boxplots* para verificar se ainda existem *outliers* nas bases de dados de escrita dos alunos e alunas."
   ]
  },
  {
   "cell_type": "code",
   "execution_count": 38,
   "id": "1eb8cbd6",
   "metadata": {},
   "outputs": [],
   "source": [
    "# Separação das notas de escrita pelo sexo e exclusão de outliers\n",
    "female_writ = Base_Dados[Base_Dados['gender'] == 'female']['writing score']\n",
    "female_writ = female_writ[female_writ > 39] # retira outliers - exclui valores abaixo de 39\n",
    "\n",
    "male_writ = Base_Dados[Base_Dados['gender'] == 'male']['writing score']\n",
    "male_writ = male_writ[male_writ > 22] # retira outliers - exclui valores abaixo de 22"
   ]
  },
  {
   "cell_type": "code",
   "execution_count": 39,
   "id": "615516a2",
   "metadata": {},
   "outputs": [
    {
     "data": {
      "text/plain": [
       "count    479.000000\n",
       "mean      63.590814\n",
       "std       13.704426\n",
       "min       27.000000\n",
       "25%       53.000000\n",
       "50%       64.000000\n",
       "75%       74.000000\n",
       "max      100.000000\n",
       "Name: writing score, dtype: float64"
      ]
     },
     "execution_count": 39,
     "metadata": {},
     "output_type": "execute_result"
    }
   ],
   "source": [
    "# Estatística descritiva das notas de escrita dos alunos --> count = 479\n",
    "male_writ.describe()"
   ]
  },
  {
   "cell_type": "code",
   "execution_count": 40,
   "id": "3481b971",
   "metadata": {},
   "outputs": [
    {
     "data": {
      "text/plain": [
       "count    504.000000\n",
       "mean      73.613095\n",
       "std       13.276952\n",
       "min       40.000000\n",
       "25%       65.000000\n",
       "50%       74.000000\n",
       "75%       82.000000\n",
       "max      100.000000\n",
       "Name: writing score, dtype: float64"
      ]
     },
     "execution_count": 40,
     "metadata": {},
     "output_type": "execute_result"
    }
   ],
   "source": [
    "# Estatística descritiva das notas de escrita das alunas --> count = 504\n",
    "female_writ.describe()"
   ]
  },
  {
   "cell_type": "code",
   "execution_count": 41,
   "id": "00177a3b",
   "metadata": {},
   "outputs": [],
   "source": [
    "# Estatística descritiva dos dados de leitura das alunas --> count = 479, igual ao count dos alunos.\n",
    "female_writ = female_writ.sample(n = len(male_writ), random_state = 0)"
   ]
  },
  {
   "cell_type": "code",
   "execution_count": 42,
   "id": "357c1518",
   "metadata": {},
   "outputs": [
    {
     "data": {
      "text/plain": [
       "count    479.000000\n",
       "mean      73.519833\n",
       "std       13.280019\n",
       "min       40.000000\n",
       "25%       65.000000\n",
       "50%       74.000000\n",
       "75%       82.000000\n",
       "max      100.000000\n",
       "Name: writing score, dtype: float64"
      ]
     },
     "execution_count": 42,
     "metadata": {},
     "output_type": "execute_result"
    }
   ],
   "source": [
    "# Estatística descritiva das notas de escrita das alunas --> count = 479\n",
    "female_writ.describe()"
   ]
  },
  {
   "cell_type": "code",
   "execution_count": 43,
   "id": "a2852c4e",
   "metadata": {},
   "outputs": [
    {
     "data": {
      "image/png": "[encoded data removed]",
      "text/plain": [
       "<Figure size 432x288 with 1 Axes>"
      ]
     },
     "metadata": {
      "needs_background": "light"
     },
     "output_type": "display_data"
    }
   ],
   "source": [
    "# Gráfico de boxplot das notas de escrita das alunas - sem outliers\n",
    "sns.boxplot(data = female_writ, x = female_writ.values)\n",
    "plt.ylabel('female', fontsize = 12, fontweight = 'bold')\n",
    "plt.xlabel('writing score', fontsize = 12, fontweight = 'bold')\n",
    "plt.xticks(range(0, 103, 4));"
   ]
  },
  {
   "cell_type": "code",
   "execution_count": 44,
   "id": "6c072638",
   "metadata": {},
   "outputs": [
    {
     "data": {
      "image/png": "[encoded data removed]",
      "text/plain": [
       "<Figure size 432x288 with 1 Axes>"
      ]
     },
     "metadata": {
      "needs_background": "light"
     },
     "output_type": "display_data"
    }
   ],
   "source": [
    "# Gráfico de boxplot das notas de escrita dos alunos - sem outliers\n",
    "sns.boxplot(data = male_writ, x = male_writ.values)\n",
    "plt.ylabel('male', fontsize = 12, fontweight = 'bold')\n",
    "plt.xlabel('writing score', fontsize = 12, fontweight = 'bold')\n",
    "plt.xticks(range(0, 103, 4));"
   ]
  },
  {
   "cell_type": "code",
   "execution_count": 45,
   "id": "8b5b7b7e",
   "metadata": {},
   "outputs": [],
   "source": [
    "# Cria um objeto para armazenar as variáveis com as notas de escrita tratadas\n",
    "variables = [female_writ, male_writ]"
   ]
  },
  {
   "cell_type": "code",
   "execution_count": 46,
   "id": "ee817052",
   "metadata": {
    "scrolled": false
   },
   "outputs": [
    {
     "name": "stdout",
     "output_type": "stream",
     "text": [
      "Shapiro: p_value = 0.0014401428634300828 - Distribuição não-normal\n",
      "D’Agostinho-Pearson: p_value = 0.016740991603081356 - Distribuição não-normal\n",
      "Anderson-Darling: ad_stat = 0.804 >= ad_critical = 0.781 - Distribuição não-normal\n",
      "Cramér-von Mises: p_value = 0 - Distribuição não-normal\n",
      "Kolmogorov-Smirnov: p_value = 0.0 - Distribuição não-normal\n",
      "\n",
      "Shapiro: p_value = 0.06020838022232056 - Distribuição normal\n",
      "D’Agostinho-Pearson: p_value = 0.008070682068242041 - Distribuição não-normal\n",
      "Anderson-Darling: ad_stat = 0.794 >= ad_critical = 0.781 - Distribuição não-normal\n",
      "Cramér-von Mises: p_value = 0 - Distribuição não-normal\n",
      "Kolmogorov-Smirnov: p_value = 0.0 - Distribuição não-normal\n",
      "\n"
     ]
    }
   ],
   "source": [
    "# Efetua o teste de normalidade para as notas de escrita das alunas e dos alunos, respec.\n",
    "teste_normalidade(variables)"
   ]
  },
  {
   "cell_type": "markdown",
   "id": "468b79df",
   "metadata": {},
   "source": [
    "Verifica-se que, de acordo com os testes de normalidade executados, os registros para as notas de escrita das alunas e dos alunos **<font color='red'>não</font>** seguem uma distribuição normal.<br>\n",
    "\n",
    "Aplica-se, a seguir, o teste não-paramétrico de Mann-Whitney para saber se há diferença estatística significativa entre as medianas das notas de escrita dos alunos e alunas."
   ]
  },
  {
   "cell_type": "code",
   "execution_count": 47,
   "id": "56ebd0cf",
   "metadata": {},
   "outputs": [
    {
     "name": "stdout",
     "output_type": "stream",
     "text": [
      "pvalue: 7.771611248390053e-26\n"
     ]
    }
   ],
   "source": [
    "# Teste não-paramétrico - Mann-Whitney\n",
    "_, p = mannwhitneyu(female_writ, male_writ)\n",
    "print(f'pvalue: {p}')"
   ]
  },
  {
   "cell_type": "code",
   "execution_count": 48,
   "id": "f6a4e99a",
   "metadata": {},
   "outputs": [
    {
     "name": "stdout",
     "output_type": "stream",
     "text": [
      "7.771611248390053e-26 <= 0.05 - Hipótese nula (H0) rejeitada\n"
     ]
    }
   ],
   "source": [
    "# Verificação do teste de hipótese:\n",
    "\n",
    "# H0 = Não há diferença significativa entre as medianas entre os grupos\n",
    "# H1 = Há diferença significativa entre as medianas entre os grupos\n",
    "# se p <= alpha: H0 rejeitada; p > alpha: H1 rejeitada. \n",
    "teste_hipotese(p)"
   ]
  },
  {
   "cell_type": "markdown",
   "id": "18924d3b",
   "metadata": {},
   "source": [
    "Após a execução dos testes de normalidade nas notas de escrita para alunos e alunas, aplicou-se o teste não-paramétrico de Mann-Whitney aos dados (para 2 amostras independentes) que gerou um p-value menor que alpha (0.05) e, portanto, as medianas das notas de escrita para os alunos e alunas apresentam uma diferença estatística significativa com 95% de confiança. "
   ]
  },
  {
   "cell_type": "code",
   "execution_count": 49,
   "id": "12a410e7",
   "metadata": {
    "scrolled": false
   },
   "outputs": [
    {
     "data": {
      "image/png": "[encoded data removed]",
      "text/plain": [
       "<Figure size 610.5x540 with 12 Axes>"
      ]
     },
     "metadata": {
      "needs_background": "light"
     },
     "output_type": "display_data"
    }
   ],
   "source": [
    "# Outra forma de avaliar as notas entre os alunos e alunas, além do uso do boxplot\n",
    "\n",
    "# Comparação entre os atributos (colunas), com os dados separados por sexo\n",
    "sns.pairplot(Base_Dados, hue='gender');"
   ]
  },
  {
   "cell_type": "code",
   "execution_count": 50,
   "id": "04b88951",
   "metadata": {
    "scrolled": true
   },
   "outputs": [
    {
     "data": {
      "text/html": [
       "<div>\n",
       "<style scoped>\n",
       "    .dataframe tbody tr th:only-of-type {\n",
       "        vertical-align: middle;\n",
       "    }\n",
       "\n",
       "    .dataframe tbody tr th {\n",
       "        vertical-align: top;\n",
       "    }\n",
       "\n",
       "    .dataframe thead th {\n",
       "        text-align: right;\n",
       "    }\n",
       "</style>\n",
       "<table border=\"1\" class=\"dataframe\">\n",
       "  <thead>\n",
       "    <tr style=\"text-align: right;\">\n",
       "      <th></th>\n",
       "      <th>math score</th>\n",
       "      <th>reading score</th>\n",
       "      <th>writing score</th>\n",
       "    </tr>\n",
       "  </thead>\n",
       "  <tbody>\n",
       "    <tr>\n",
       "      <th>math score</th>\n",
       "      <td>1.000000</td>\n",
       "      <td>0.817580</td>\n",
       "      <td>0.802642</td>\n",
       "    </tr>\n",
       "    <tr>\n",
       "      <th>reading score</th>\n",
       "      <td>0.817580</td>\n",
       "      <td>1.000000</td>\n",
       "      <td>0.954598</td>\n",
       "    </tr>\n",
       "    <tr>\n",
       "      <th>writing score</th>\n",
       "      <td>0.802642</td>\n",
       "      <td>0.954598</td>\n",
       "      <td>1.000000</td>\n",
       "    </tr>\n",
       "  </tbody>\n",
       "</table>\n",
       "</div>"
      ],
      "text/plain": [
       "               math score  reading score  writing score\n",
       "math score       1.000000       0.817580       0.802642\n",
       "reading score    0.817580       1.000000       0.954598\n",
       "writing score    0.802642       0.954598       1.000000"
      ]
     },
     "execution_count": 50,
     "metadata": {},
     "output_type": "execute_result"
    }
   ],
   "source": [
    "Base_Dados.corr()"
   ]
  },
  {
   "cell_type": "markdown",
   "id": "0b4ae645",
   "metadata": {},
   "source": [
    "<img src=\"Apresentação1.png\" width=300px  style=\"float: left\">"
   ]
  },
  {
   "cell_type": "markdown",
   "id": "84f2a59d",
   "metadata": {},
   "source": [
    "Pelo deslocamento (para a direita ou para a esquerda) da reta que poderia ser ajustada a cada um dos grupos de dados apresentados (bolinhas azuis - feminino e bolinhas amarelas - masculino), há uma relação clara entre as notas de **<font color='blue'>matemática</font>** & **<font color='green'>escrita</font>** e **<font color='blue'>matemática</font>** & **<font color='orange'>leitura</font>** dos alunos quando separadas por sexo:\n",
    "\n",
    "* Alunas: as notas de matemática são mais baixas que as de escrita\n",
    "* Alunas: as notas de matemática são mais baixas que as de leitura\n",
    "<br><br>\n",
    "* Alunos: as notas de matemática são melhores que as de escrita\n",
    "* Alunos: as notas de matemática são melhores que as de leitura\n",
    "\n",
    "Pelas altas correlações positivas, pode-se dizer que quem consegue notas altas (baixas) em uma determinada disciplina, consegue notas altas (baixas) nas outras disciplinas também."
   ]
  },
  {
   "cell_type": "code",
   "execution_count": 51,
   "id": "5351083f",
   "metadata": {
    "scrolled": true
   },
   "outputs": [],
   "source": [
    "# Separação das notas de matemática por raça/etnia\n",
    "Base_Dados_A = Base_Dados[(Base_Dados['race/ethnicity'] == 'group A')]['math score'].reset_index(drop = True)\n",
    "Base_Dados_B = Base_Dados[(Base_Dados['race/ethnicity'] == 'group B')]['math score'].reset_index(drop = True)\n",
    "Base_Dados_C = Base_Dados[(Base_Dados['race/ethnicity'] == 'group C')]['math score'].reset_index(drop = True)\n",
    "Base_Dados_D = Base_Dados[(Base_Dados['race/ethnicity'] == 'group D')]['math score'].reset_index(drop = True)\n",
    "Base_Dados_E = Base_Dados[(Base_Dados['race/ethnicity'] == 'group E')]['math score'].reset_index(drop = True)\n",
    "\n",
    "# Armazena as series de dados em um dicionário\n",
    "dados = {'group A':Base_Dados_A, 'group B':Base_Dados_B, 'group C':Base_Dados_C, 'group D':Base_Dados_D, 'group E':Base_Dados_E}\n",
    "\n",
    "# Cria um dataframne com as series ajustadas\n",
    "Base_Dados_etnia = pd.DataFrame(data = dados).reset_index(drop = True)"
   ]
  },
  {
   "cell_type": "code",
   "execution_count": 52,
   "id": "5e0bac01",
   "metadata": {},
   "outputs": [
    {
     "data": {
      "image/png": "[encoded data removed]",
      "text/plain": [
       "<Figure size 432x288 with 1 Axes>"
      ]
     },
     "metadata": {
      "needs_background": "light"
     },
     "output_type": "display_data"
    }
   ],
   "source": [
    "# Gráfico de boxplot para comparar as notas de matemática entre as diferentes raças/etnias\n",
    "sns.boxplot(data=Base_Dados_etnia)\n",
    "plt.ylabel('Notas de Matemática')\n",
    "plt.yticks(range(0, 100, 6));"
   ]
  },
  {
   "cell_type": "code",
   "execution_count": 53,
   "id": "ad03fcaa",
   "metadata": {},
   "outputs": [],
   "source": [
    "# Exclusão de outliers da base de dados de matemática (notas) separados por raça/etnia\n",
    "Base_Dados_A_sem_outliers = Base_Dados_A\n",
    "\n",
    "Base_Dados_B_sem_outliers = Base_Dados_B[Base_Dados_B > 24] # retira outliers - exclui valores abaixo de 24\n",
    "\n",
    "Base_Dados_C_sem_outliers = Base_Dados_C[Base_Dados_C > 26] # retira outliers - exclui valores abaixo de 26\n",
    "\n",
    "Base_Dados_D_sem_outliers = Base_Dados_D[Base_Dados_D > 34] # retira outliers - exclui valores abaixo de 34\n",
    "\n",
    "Base_Dados_E_sem_outliers = Base_Dados_E[Base_Dados_E > 36] # retira outliers - exclui valores abaixo de 36\n",
    "\n",
    "# Armazena, em um dicionário, as séries de dados sem outliers\n",
    "dados_sem_outliers = {'group A':Base_Dados_A_sem_outliers, 'group B':Base_Dados_B_sem_outliers, \n",
    "                      'group C':Base_Dados_C_sem_outliers, 'group D':Base_Dados_D_sem_outliers, \n",
    "                      'group E':Base_Dados_E_sem_outliers}\n",
    "\n",
    "# Cria um dataframne com as séries\n",
    "Base_Dados_etnia_sem_outliers = pd.DataFrame(data = dados_sem_outliers).reset_index(drop = True)"
   ]
  },
  {
   "cell_type": "code",
   "execution_count": 54,
   "id": "449e2c9e",
   "metadata": {},
   "outputs": [
    {
     "data": {
      "image/png": "[encoded data removed]",
      "text/plain": [
       "<Figure size 432x288 with 1 Axes>"
      ]
     },
     "metadata": {
      "needs_background": "light"
     },
     "output_type": "display_data"
    }
   ],
   "source": [
    "# Gráfico de boxplot para comparar as notas de matemática entre as diferentes raças/etnias- sem outliers\n",
    "sns.boxplot(data=Base_Dados_etnia_sem_outliers)\n",
    "plt.ylabel('Notas de Matemática')\n",
    "plt.yticks(range(0, 100, 6));"
   ]
  },
  {
   "cell_type": "code",
   "execution_count": 55,
   "id": "4beb66bb",
   "metadata": {},
   "outputs": [
    {
     "data": {
      "text/html": [
       "<div>\n",
       "<style scoped>\n",
       "    .dataframe tbody tr th:only-of-type {\n",
       "        vertical-align: middle;\n",
       "    }\n",
       "\n",
       "    .dataframe tbody tr th {\n",
       "        vertical-align: top;\n",
       "    }\n",
       "\n",
       "    .dataframe thead th {\n",
       "        text-align: right;\n",
       "    }\n",
       "</style>\n",
       "<table border=\"1\" class=\"dataframe\">\n",
       "  <thead>\n",
       "    <tr style=\"text-align: right;\">\n",
       "      <th></th>\n",
       "      <th>group A</th>\n",
       "      <th>group B</th>\n",
       "      <th>group C</th>\n",
       "      <th>group D</th>\n",
       "      <th>group E</th>\n",
       "    </tr>\n",
       "  </thead>\n",
       "  <tbody>\n",
       "    <tr>\n",
       "      <th>count</th>\n",
       "      <td>89.000000</td>\n",
       "      <td>185.000000</td>\n",
       "      <td>317.000000</td>\n",
       "      <td>259.000000</td>\n",
       "      <td>138.000000</td>\n",
       "    </tr>\n",
       "    <tr>\n",
       "      <th>mean</th>\n",
       "      <td>61.629213</td>\n",
       "      <td>64.670270</td>\n",
       "      <td>64.801262</td>\n",
       "      <td>67.826255</td>\n",
       "      <td>74.442029</td>\n",
       "    </tr>\n",
       "    <tr>\n",
       "      <th>std</th>\n",
       "      <td>14.523008</td>\n",
       "      <td>13.720202</td>\n",
       "      <td>14.248749</td>\n",
       "      <td>13.150468</td>\n",
       "      <td>14.753457</td>\n",
       "    </tr>\n",
       "    <tr>\n",
       "      <th>min</th>\n",
       "      <td>28.000000</td>\n",
       "      <td>30.000000</td>\n",
       "      <td>27.000000</td>\n",
       "      <td>35.000000</td>\n",
       "      <td>37.000000</td>\n",
       "    </tr>\n",
       "    <tr>\n",
       "      <th>25%</th>\n",
       "      <td>51.000000</td>\n",
       "      <td>54.000000</td>\n",
       "      <td>55.000000</td>\n",
       "      <td>59.000000</td>\n",
       "      <td>65.250000</td>\n",
       "    </tr>\n",
       "    <tr>\n",
       "      <th>50%</th>\n",
       "      <td>61.000000</td>\n",
       "      <td>64.000000</td>\n",
       "      <td>65.000000</td>\n",
       "      <td>69.000000</td>\n",
       "      <td>75.000000</td>\n",
       "    </tr>\n",
       "    <tr>\n",
       "      <th>75%</th>\n",
       "      <td>71.000000</td>\n",
       "      <td>74.000000</td>\n",
       "      <td>74.000000</td>\n",
       "      <td>77.000000</td>\n",
       "      <td>85.000000</td>\n",
       "    </tr>\n",
       "    <tr>\n",
       "      <th>max</th>\n",
       "      <td>100.000000</td>\n",
       "      <td>97.000000</td>\n",
       "      <td>98.000000</td>\n",
       "      <td>100.000000</td>\n",
       "      <td>100.000000</td>\n",
       "    </tr>\n",
       "  </tbody>\n",
       "</table>\n",
       "</div>"
      ],
      "text/plain": [
       "          group A     group B     group C     group D     group E\n",
       "count   89.000000  185.000000  317.000000  259.000000  138.000000\n",
       "mean    61.629213   64.670270   64.801262   67.826255   74.442029\n",
       "std     14.523008   13.720202   14.248749   13.150468   14.753457\n",
       "min     28.000000   30.000000   27.000000   35.000000   37.000000\n",
       "25%     51.000000   54.000000   55.000000   59.000000   65.250000\n",
       "50%     61.000000   64.000000   65.000000   69.000000   75.000000\n",
       "75%     71.000000   74.000000   74.000000   77.000000   85.000000\n",
       "max    100.000000   97.000000   98.000000  100.000000  100.000000"
      ]
     },
     "execution_count": 55,
     "metadata": {},
     "output_type": "execute_result"
    }
   ],
   "source": [
    "# Análise descritiva da nova série de dados\n",
    "Base_Dados_etnia_sem_outliers.describe()"
   ]
  },
  {
   "cell_type": "code",
   "execution_count": 56,
   "id": "ef625c6f",
   "metadata": {
    "scrolled": false
   },
   "outputs": [
    {
     "name": "stdout",
     "output_type": "stream",
     "text": [
      "Shapiro: p_value = 0.8545348644256592 - Distribuição normal\n",
      "D’Agostinho-Pearson: p_value = 0.5154095093796678 - Distribuição normal\n",
      "Anderson-Darling: ad_stat = 0.199 < ad_critical = 0.755 - Distribuição normal\n",
      "Cramér-von Mises: p_value = 0 - Distribuição não-normal\n",
      "Kolmogorov-Smirnov: p_value = 0.0 - Distribuição não-normal\n",
      "\n",
      "Shapiro: p_value = 0.45818397402763367 - Distribuição normal\n",
      "D’Agostinho-Pearson: p_value = 0.4019564859347987 - Distribuição normal\n",
      "Anderson-Darling: ad_stat = 0.349 < ad_critical = 0.771 - Distribuição normal\n",
      "Cramér-von Mises: p_value = 0 - Distribuição não-normal\n",
      "Kolmogorov-Smirnov: p_value = 0.0 - Distribuição não-normal\n",
      "\n",
      "Shapiro: p_value = 0.31851834058761597 - Distribuição normal\n",
      "D’Agostinho-Pearson: p_value = 0.8205947484516929 - Distribuição normal\n",
      "Anderson-Darling: ad_stat = 0.345 < ad_critical = 0.777 - Distribuição normal\n",
      "Cramér-von Mises: p_value = 1.9106171755822743e-08 - Distribuição não-normal\n",
      "Kolmogorov-Smirnov: p_value = 0.0 - Distribuição não-normal\n",
      "\n",
      "Shapiro: p_value = 0.10871993005275726 - Distribuição normal\n",
      "D’Agostinho-Pearson: p_value = 0.11873774013826982 - Distribuição normal\n",
      "Anderson-Darling: ad_stat = 0.588 < ad_critical = 0.775 - Distribuição normal\n",
      "Cramér-von Mises: p_value = 0 - Distribuição não-normal\n",
      "Kolmogorov-Smirnov: p_value = 0.0 - Distribuição não-normal\n",
      "\n",
      "Shapiro: p_value = 0.0580291748046875 - Distribuição normal\n",
      "D’Agostinho-Pearson: p_value = 0.19189453438169785 - Distribuição normal\n",
      "Anderson-Darling: ad_stat = 0.394 < ad_critical = 0.766 - Distribuição normal\n",
      "Cramér-von Mises: p_value = 0 - Distribuição não-normal\n",
      "Kolmogorov-Smirnov: p_value = 0.0 - Distribuição não-normal\n",
      "\n"
     ]
    }
   ],
   "source": [
    "# Séries de dados sem outliers para testar a normalidade\n",
    "variables = [Base_Dados_A_sem_outliers, Base_Dados_B_sem_outliers, Base_Dados_C_sem_outliers, Base_Dados_D_sem_outliers, \n",
    "             Base_Dados_E_sem_outliers]\n",
    "\n",
    "# Efetuando o teste de normalidade\n",
    "teste_normalidade(variables)"
   ]
  },
  {
   "cell_type": "markdown",
   "id": "73075ce0",
   "metadata": {},
   "source": [
    "Verifica-se que, de acordo com os testes de normalidade executados, os registros para as notas de matemática de todos os alunos, separados por grupos de raça/etnia, apresentam uma distribuição normal."
   ]
  },
  {
   "cell_type": "code",
   "execution_count": 57,
   "id": "26d9f841",
   "metadata": {},
   "outputs": [
    {
     "name": "stdout",
     "output_type": "stream",
     "text": [
      "5.277703209843429e-13\n"
     ]
    }
   ],
   "source": [
    "# Aplicação do teste paramétrico ANOVA de 1 via (2 ou mais amostras independentes)\n",
    "_, p_anova = f_oneway(Base_Dados_A_sem_outliers, Base_Dados_B_sem_outliers, Base_Dados_C_sem_outliers, \n",
    "                       Base_Dados_D_sem_outliers, Base_Dados_E_sem_outliers)\n",
    "print(p_anova)"
   ]
  },
  {
   "cell_type": "code",
   "execution_count": 58,
   "id": "98f5375a",
   "metadata": {},
   "outputs": [
    {
     "name": "stdout",
     "output_type": "stream",
     "text": [
      "5.277703209843429e-13 <= 0.05 - Hipótese nula (H0) rejeitada\n"
     ]
    }
   ],
   "source": [
    "# Verificação do teste de hipótese:\n",
    "\n",
    "# H0 = Não há diferença significativa entre as medianas entre os grupos\n",
    "# H1 = Há diferença significativa entre as medianas entre os grupos\n",
    "# se p <= alpha: H0 rejeitada; p > alpha: H1 rejeitada. \n",
    "teste_hipotese(p_anova)"
   ]
  },
  {
   "cell_type": "code",
   "execution_count": 59,
   "id": "9a4b3ecd",
   "metadata": {
    "scrolled": false
   },
   "outputs": [
    {
     "data": {
      "text/html": [
       "<div>\n",
       "<style scoped>\n",
       "    .dataframe tbody tr th:only-of-type {\n",
       "        vertical-align: middle;\n",
       "    }\n",
       "\n",
       "    .dataframe tbody tr th {\n",
       "        vertical-align: top;\n",
       "    }\n",
       "\n",
       "    .dataframe thead th {\n",
       "        text-align: right;\n",
       "    }\n",
       "</style>\n",
       "<table border=\"1\" class=\"dataframe\">\n",
       "  <thead>\n",
       "    <tr style=\"text-align: right;\">\n",
       "      <th></th>\n",
       "      <th>valores_grupo</th>\n",
       "      <th>grupo</th>\n",
       "    </tr>\n",
       "  </thead>\n",
       "  <tbody>\n",
       "    <tr>\n",
       "      <th>0</th>\n",
       "      <td>47</td>\n",
       "      <td>Base_Dados_A_sem_outliers</td>\n",
       "    </tr>\n",
       "    <tr>\n",
       "      <th>1</th>\n",
       "      <td>78</td>\n",
       "      <td>Base_Dados_A_sem_outliers</td>\n",
       "    </tr>\n",
       "    <tr>\n",
       "      <th>2</th>\n",
       "      <td>50</td>\n",
       "      <td>Base_Dados_A_sem_outliers</td>\n",
       "    </tr>\n",
       "    <tr>\n",
       "      <th>3</th>\n",
       "      <td>73</td>\n",
       "      <td>Base_Dados_A_sem_outliers</td>\n",
       "    </tr>\n",
       "    <tr>\n",
       "      <th>4</th>\n",
       "      <td>55</td>\n",
       "      <td>Base_Dados_A_sem_outliers</td>\n",
       "    </tr>\n",
       "    <tr>\n",
       "      <th>...</th>\n",
       "      <td>...</td>\n",
       "      <td>...</td>\n",
       "    </tr>\n",
       "    <tr>\n",
       "      <th>983</th>\n",
       "      <td>100</td>\n",
       "      <td>Base_Dados_E_sem_outliers</td>\n",
       "    </tr>\n",
       "    <tr>\n",
       "      <th>984</th>\n",
       "      <td>68</td>\n",
       "      <td>Base_Dados_E_sem_outliers</td>\n",
       "    </tr>\n",
       "    <tr>\n",
       "      <th>985</th>\n",
       "      <td>81</td>\n",
       "      <td>Base_Dados_E_sem_outliers</td>\n",
       "    </tr>\n",
       "    <tr>\n",
       "      <th>986</th>\n",
       "      <td>86</td>\n",
       "      <td>Base_Dados_E_sem_outliers</td>\n",
       "    </tr>\n",
       "    <tr>\n",
       "      <th>987</th>\n",
       "      <td>88</td>\n",
       "      <td>Base_Dados_E_sem_outliers</td>\n",
       "    </tr>\n",
       "  </tbody>\n",
       "</table>\n",
       "<p>988 rows × 2 columns</p>\n",
       "</div>"
      ],
      "text/plain": [
       "     valores_grupo                      grupo\n",
       "0               47  Base_Dados_A_sem_outliers\n",
       "1               78  Base_Dados_A_sem_outliers\n",
       "2               50  Base_Dados_A_sem_outliers\n",
       "3               73  Base_Dados_A_sem_outliers\n",
       "4               55  Base_Dados_A_sem_outliers\n",
       "..             ...                        ...\n",
       "983            100  Base_Dados_E_sem_outliers\n",
       "984             68  Base_Dados_E_sem_outliers\n",
       "985             81  Base_Dados_E_sem_outliers\n",
       "986             86  Base_Dados_E_sem_outliers\n",
       "987             88  Base_Dados_E_sem_outliers\n",
       "\n",
       "[988 rows x 2 columns]"
      ]
     },
     "execution_count": 59,
     "metadata": {},
     "output_type": "execute_result"
    }
   ],
   "source": [
    "# Preparação dos dados para o teste pós-hoc de Tukey\n",
    "\n",
    "# Junta as séries de dados tratados - sem outliers\n",
    "valores_grupo = np.concatenate((Base_Dados_A_sem_outliers, Base_Dados_B_sem_outliers, Base_Dados_C_sem_outliers, \n",
    "                                Base_Dados_D_sem_outliers, Base_Dados_E_sem_outliers))\n",
    "\n",
    "# Forma listas (grupo1, grupo2 e grupo3) de strings repetidas\n",
    "grupo1 = [\"Base_Dados_A_sem_outliers\"] * len(Base_Dados_A_sem_outliers) + [\"Base_Dados_B_sem_outliers\"] * len(Base_Dados_B_sem_outliers)\n",
    "grupo2 = [\"Base_Dados_C_sem_outliers\"] * len(Base_Dados_C_sem_outliers) + [\"Base_Dados_D_sem_outliers\"] * len(Base_Dados_D_sem_outliers)\n",
    "grupo3 = [\"Base_Dados_E_sem_outliers\"] * len(Base_Dados_E_sem_outliers)\n",
    "grupo = grupo1 + grupo2 + grupo3 # Junta as listas em uma única lista\n",
    "\n",
    "# Atribui os valores de cada série de dados as strings que correspondem as séries de dados aos quais os valores pertencem.\n",
    "dados = {'valores_grupo': valores_grupo, 'grupo': grupo}\n",
    "Base_Dados_etnia_reconfig = pd.DataFrame(dados) # Cria um dataframe, usando o dicionário dados\n",
    "Base_Dados_etnia_reconfig"
   ]
  },
  {
   "cell_type": "code",
   "execution_count": 60,
   "id": "4c856aee",
   "metadata": {},
   "outputs": [],
   "source": [
    "# Configuração e instanciação do algoritmo usado para comparação entre os grupos - Teste de Tukey\n",
    "compara_grupos = MultiComparison(Base_Dados_etnia_reconfig['valores_grupo'], Base_Dados_etnia_reconfig['grupo'])"
   ]
  },
  {
   "cell_type": "code",
   "execution_count": 61,
   "id": "c2e201f4",
   "metadata": {},
   "outputs": [
    {
     "name": "stdout",
     "output_type": "stream",
     "text": [
      "                   Multiple Comparison of Means - Tukey HSD, FWER=0.05                    \n",
      "==========================================================================================\n",
      "          group1                    group2          meandiff p-adj   lower   upper  reject\n",
      "------------------------------------------------------------------------------------------\n",
      "Base_Dados_A_sem_outliers Base_Dados_B_sem_outliers   3.0411  0.442 -1.8833  7.9654  False\n",
      "Base_Dados_A_sem_outliers Base_Dados_C_sem_outliers    3.172 0.3217 -1.4072  7.7513  False\n",
      "Base_Dados_A_sem_outliers Base_Dados_D_sem_outliers    6.197  0.003  1.5068 10.8873   True\n",
      "Base_Dados_A_sem_outliers Base_Dados_E_sem_outliers  12.8128    0.0  7.6232 18.0024   True\n",
      "Base_Dados_B_sem_outliers Base_Dados_C_sem_outliers    0.131    1.0 -3.4008  3.6627  False\n",
      "Base_Dados_B_sem_outliers Base_Dados_D_sem_outliers    3.156 0.1311 -0.5186  6.8306  False\n",
      "Base_Dados_B_sem_outliers Base_Dados_E_sem_outliers   9.7718    0.0  5.4781 14.0654   True\n",
      "Base_Dados_C_sem_outliers Base_Dados_D_sem_outliers    3.025 0.0738 -0.1723  6.2223  False\n",
      "Base_Dados_C_sem_outliers Base_Dados_E_sem_outliers   9.6408    0.0  5.7477 13.5338   True\n",
      "Base_Dados_D_sem_outliers Base_Dados_E_sem_outliers   6.6158 0.0001  2.5927 10.6389   True\n",
      "------------------------------------------------------------------------------------------\n"
     ]
    }
   ],
   "source": [
    "# Aplicação do teste de Tukey\n",
    "teste_tukey = compara_grupos.tukeyhsd()\n",
    "print(teste_tukey)"
   ]
  },
  {
   "cell_type": "markdown",
   "id": "43cd9e77",
   "metadata": {},
   "source": [
    "Após a execução dos testes de normalidade nas notas de matemática para todos os grupos, o teste ANOVA de 1 vía indicou uma diferença estatística significativa entre as médias dos grupos com 95% de confiança. O teste pós-hoc de tukey serviu para indicar entre quais grupos específicos havia uma diferença estatística significativa (ou não) entre as médias. Esse teste gerou um p-value menor que alpha = 0.05 para as médias entre os grupos <font color='red'>**A**</font> e <font color='red'>**D**</font>, <font color='red'>**A**</font> e <font color='red'>**E**</font>, <font color='red'>**B**</font> e <font color='red'>**E**</font>, <font color='red'>**C**</font> e <font color='red'>**E**</font> e <font color='red'>**D**</font> e <font color='red'>**E**</font>. Portanto, as médias das notas de matemática entre esses grupos citados apresentam uma diferença estatística significativa com 95% de confiança. "
   ]
  },
  {
   "cell_type": "code",
   "execution_count": 62,
   "id": "48a85240",
   "metadata": {
    "scrolled": true
   },
   "outputs": [
    {
     "data": {
      "text/html": [
       "<div>\n",
       "<style scoped>\n",
       "    .dataframe tbody tr th:only-of-type {\n",
       "        vertical-align: middle;\n",
       "    }\n",
       "\n",
       "    .dataframe tbody tr th {\n",
       "        vertical-align: top;\n",
       "    }\n",
       "\n",
       "    .dataframe thead th {\n",
       "        text-align: right;\n",
       "    }\n",
       "</style>\n",
       "<table border=\"1\" class=\"dataframe\">\n",
       "  <thead>\n",
       "    <tr style=\"text-align: right;\">\n",
       "      <th></th>\n",
       "      <th>test preparation course</th>\n",
       "      <th>count</th>\n",
       "      <th>mean</th>\n",
       "      <th>std</th>\n",
       "      <th>min</th>\n",
       "      <th>25%</th>\n",
       "      <th>50%</th>\n",
       "      <th>75%</th>\n",
       "      <th>max</th>\n",
       "    </tr>\n",
       "  </thead>\n",
       "  <tbody>\n",
       "    <tr>\n",
       "      <th>0</th>\n",
       "      <td>completed</td>\n",
       "      <td>358.0</td>\n",
       "      <td>69.695531</td>\n",
       "      <td>14.444699</td>\n",
       "      <td>23.0</td>\n",
       "      <td>60.0</td>\n",
       "      <td>69.0</td>\n",
       "      <td>79.00</td>\n",
       "      <td>100.0</td>\n",
       "    </tr>\n",
       "    <tr>\n",
       "      <th>1</th>\n",
       "      <td>none</td>\n",
       "      <td>642.0</td>\n",
       "      <td>64.077882</td>\n",
       "      <td>15.192376</td>\n",
       "      <td>0.0</td>\n",
       "      <td>54.0</td>\n",
       "      <td>64.0</td>\n",
       "      <td>74.75</td>\n",
       "      <td>100.0</td>\n",
       "    </tr>\n",
       "  </tbody>\n",
       "</table>\n",
       "</div>"
      ],
      "text/plain": [
       "  test preparation course  count       mean        std   min   25%   50%  \\\n",
       "0               completed  358.0  69.695531  14.444699  23.0  60.0  69.0   \n",
       "1                    none  642.0  64.077882  15.192376   0.0  54.0  64.0   \n",
       "\n",
       "     75%    max  \n",
       "0  79.00  100.0  \n",
       "1  74.75  100.0  "
      ]
     },
     "execution_count": 62,
     "metadata": {},
     "output_type": "execute_result"
    }
   ],
   "source": [
    "# Agrupa os dados por curso preparatório (fez ou não fez) e retorna apenas a estatística descritiva das notas de matemática\n",
    "Base_Dados.groupby( by=['test preparation course']).describe()['math score'].reset_index()"
   ]
  },
  {
   "cell_type": "markdown",
   "id": "92a5eab3",
   "metadata": {},
   "source": [
    "**De forma geral, quem fez curso preparatório obtém notas melhores em matemática do que aqueles que não fizeram curso preparatório.**"
   ]
  },
  {
   "cell_type": "code",
   "execution_count": 63,
   "id": "c9e3d496",
   "metadata": {
    "scrolled": true
   },
   "outputs": [
    {
     "data": {
      "text/html": [
       "<div>\n",
       "<style scoped>\n",
       "    .dataframe tbody tr th:only-of-type {\n",
       "        vertical-align: middle;\n",
       "    }\n",
       "\n",
       "    .dataframe tbody tr th {\n",
       "        vertical-align: top;\n",
       "    }\n",
       "\n",
       "    .dataframe thead th {\n",
       "        text-align: right;\n",
       "    }\n",
       "</style>\n",
       "<table border=\"1\" class=\"dataframe\">\n",
       "  <thead>\n",
       "    <tr style=\"text-align: right;\">\n",
       "      <th></th>\n",
       "      <th>parental level of education</th>\n",
       "      <th>count</th>\n",
       "      <th>mean</th>\n",
       "      <th>std</th>\n",
       "      <th>min</th>\n",
       "      <th>25%</th>\n",
       "      <th>50%</th>\n",
       "      <th>75%</th>\n",
       "      <th>max</th>\n",
       "    </tr>\n",
       "  </thead>\n",
       "  <tbody>\n",
       "    <tr>\n",
       "      <th>3</th>\n",
       "      <td>master's degree</td>\n",
       "      <td>59.0</td>\n",
       "      <td>69.745763</td>\n",
       "      <td>15.153915</td>\n",
       "      <td>40.0</td>\n",
       "      <td>55.50</td>\n",
       "      <td>73.0</td>\n",
       "      <td>81.0</td>\n",
       "      <td>95.0</td>\n",
       "    </tr>\n",
       "    <tr>\n",
       "      <th>1</th>\n",
       "      <td>bachelor's degree</td>\n",
       "      <td>118.0</td>\n",
       "      <td>69.389831</td>\n",
       "      <td>14.943789</td>\n",
       "      <td>29.0</td>\n",
       "      <td>61.00</td>\n",
       "      <td>68.0</td>\n",
       "      <td>79.0</td>\n",
       "      <td>100.0</td>\n",
       "    </tr>\n",
       "    <tr>\n",
       "      <th>4</th>\n",
       "      <td>some college</td>\n",
       "      <td>226.0</td>\n",
       "      <td>67.128319</td>\n",
       "      <td>14.312897</td>\n",
       "      <td>19.0</td>\n",
       "      <td>59.00</td>\n",
       "      <td>67.5</td>\n",
       "      <td>76.0</td>\n",
       "      <td>100.0</td>\n",
       "    </tr>\n",
       "    <tr>\n",
       "      <th>0</th>\n",
       "      <td>associate's degree</td>\n",
       "      <td>222.0</td>\n",
       "      <td>67.882883</td>\n",
       "      <td>15.112093</td>\n",
       "      <td>26.0</td>\n",
       "      <td>57.00</td>\n",
       "      <td>67.0</td>\n",
       "      <td>80.0</td>\n",
       "      <td>100.0</td>\n",
       "    </tr>\n",
       "    <tr>\n",
       "      <th>5</th>\n",
       "      <td>some high school</td>\n",
       "      <td>179.0</td>\n",
       "      <td>63.497207</td>\n",
       "      <td>15.927989</td>\n",
       "      <td>0.0</td>\n",
       "      <td>53.00</td>\n",
       "      <td>65.0</td>\n",
       "      <td>74.0</td>\n",
       "      <td>97.0</td>\n",
       "    </tr>\n",
       "    <tr>\n",
       "      <th>2</th>\n",
       "      <td>high school</td>\n",
       "      <td>196.0</td>\n",
       "      <td>62.137755</td>\n",
       "      <td>14.539651</td>\n",
       "      <td>8.0</td>\n",
       "      <td>53.75</td>\n",
       "      <td>63.0</td>\n",
       "      <td>72.0</td>\n",
       "      <td>99.0</td>\n",
       "    </tr>\n",
       "  </tbody>\n",
       "</table>\n",
       "</div>"
      ],
      "text/plain": [
       "  parental level of education  count       mean        std   min    25%   50%  \\\n",
       "3             master's degree   59.0  69.745763  15.153915  40.0  55.50  73.0   \n",
       "1           bachelor's degree  118.0  69.389831  14.943789  29.0  61.00  68.0   \n",
       "4                some college  226.0  67.128319  14.312897  19.0  59.00  67.5   \n",
       "0          associate's degree  222.0  67.882883  15.112093  26.0  57.00  67.0   \n",
       "5            some high school  179.0  63.497207  15.927989   0.0  53.00  65.0   \n",
       "2                 high school  196.0  62.137755  14.539651   8.0  53.75  63.0   \n",
       "\n",
       "    75%    max  \n",
       "3  81.0   95.0  \n",
       "1  79.0  100.0  \n",
       "4  76.0  100.0  \n",
       "0  80.0  100.0  \n",
       "5  74.0   97.0  \n",
       "2  72.0   99.0  "
      ]
     },
     "execution_count": 63,
     "metadata": {},
     "output_type": "execute_result"
    }
   ],
   "source": [
    "# Agrupa os dados por nivel de formação dos pais e retorna apenas a estatística descritiva das notas de matemática\n",
    "Base_Dados.groupby(by=['parental level of education']).describe()['math score'].reset_index().sort_values(by=['50%'], \n",
    "                                                                                                          ascending=False)"
   ]
  },
  {
   "cell_type": "markdown",
   "id": "1bb516cd",
   "metadata": {},
   "source": [
    "**De forma geral, segundo os dados, aqueles que tem pais com nível de educação mais alto costumam apresentar melhor desempenho nas notas de matemática quando comparados aqueles que tem pais com nível de educação mais baixo.**"
   ]
  }
 ],
 "metadata": {
  "kernelspec": {
   "display_name": "Python 3 (ipykernel)",
   "language": "python",
   "name": "python3"
  },
  "language_info": {
   "codemirror_mode": {
    "name": "ipython",
    "version": 3
   },
   "file_extension": ".py",
   "mimetype": "text/x-python",
   "name": "python",
   "nbconvert_exporter": "python",
   "pygments_lexer": "ipython3",
   "version": "3.9.12"
  }
 },
 "nbformat": 4,
 "nbformat_minor": 5
}
